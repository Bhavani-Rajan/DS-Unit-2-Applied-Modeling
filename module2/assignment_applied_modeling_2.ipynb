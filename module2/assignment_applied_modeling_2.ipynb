{
 "cells": [
  {
   "cell_type": "markdown",
   "metadata": {
    "colab_type": "text",
    "id": "nCc3XZEyG3XV"
   },
   "source": [
    "Lambda School Data Science\n",
    "\n",
    "*Unit 2, Sprint 3, Module 2*\n",
    "\n",
    "---\n",
    "\n",
    "\n",
    "# Permutation & Boosting\n",
    "\n",
    "You will use your portfolio project dataset for all assignments this sprint.\n",
    "\n",
    "## Assignment\n",
    "\n",
    "Complete these tasks for your project, and document your work.\n",
    "\n",
    "- [ ] If you haven't completed assignment #1, please do so first.\n",
    "- [ ] Continue to clean and explore your data. Make exploratory visualizations.\n",
    "- [ ] Fit a model. Does it beat your baseline? \n",
    "- [ ] Try xgboost.\n",
    "- [ ] Get your model's permutation importances.\n",
    "\n",
    "You should try to complete an initial model today, because the rest of the week, we're making model interpretation visualizations.\n",
    "\n",
    "But, if you aren't ready to try xgboost and permutation importances with your dataset today, that's okay. You can practice with another dataset instead. You may choose any dataset you've worked with previously.\n",
    "\n",
    "The data subdirectory includes the Titanic dataset for classification and the NYC apartments dataset for regression. You may want to choose one of these datasets, because example solutions will be available for each.\n",
    "\n",
    "\n",
    "## Reading\n",
    "\n",
    "Top recommendations in _**bold italic:**_\n",
    "\n",
    "#### Permutation Importances\n",
    "- _**[Kaggle / Dan Becker: Machine Learning Explainability](https://www.kaggle.com/dansbecker/permutation-importance)**_\n",
    "- [Christoph Molnar: Interpretable Machine Learning](https://christophm.github.io/interpretable-ml-book/feature-importance.html)\n",
    "\n",
    "#### (Default) Feature Importances\n",
    "  - [Ando Saabas: Selecting good features, Part 3, Random Forests](https://blog.datadive.net/selecting-good-features-part-iii-random-forests/)\n",
    "  - [Terence Parr, et al: Beware Default Random Forest Importances](https://explained.ai/rf-importance/index.html)\n",
    "\n",
    "#### Gradient Boosting\n",
    "  - [A Gentle Introduction to the Gradient Boosting Algorithm for Machine Learning](https://machinelearningmastery.com/gentle-introduction-gradient-boosting-algorithm-machine-learning/)\n",
    "  - _**[A Kaggle Master Explains Gradient Boosting](http://blog.kaggle.com/2017/01/23/a-kaggle-master-explains-gradient-boosting/)**_\n",
    "  - [_An Introduction to Statistical Learning_](http://www-bcf.usc.edu/~gareth/ISL/ISLR%20Seventh%20Printing.pdf) Chapter 8\n",
    "  - [Gradient Boosting Explained](http://arogozhnikov.github.io/2016/06/24/gradient_boosting_explained.html)\n",
    "  - _**[Boosting](https://www.youtube.com/watch?v=GM3CDQfQ4sw) (2.5 minute video)**_"
   ]
  },
  {
   "cell_type": "markdown",
   "metadata": {
    "colab_type": "text",
    "id": "uSnFFfTdAhi7"
   },
   "source": [
    "#### Load the data"
   ]
  },
  {
   "cell_type": "code",
   "execution_count": 1,
   "metadata": {
    "colab": {
     "base_uri": "https://localhost:8080/",
     "height": 551
    },
    "colab_type": "code",
    "id": "QHlswn6kA1oQ",
    "outputId": "c3546598-4781-474a-d8d3-9f5791d43d66"
   },
   "outputs": [
    {
     "name": "stdout",
     "output_type": "stream",
     "text": [
      "Requirement already satisfied: category_encoders==2.* in /anaconda3/lib/python3.7/site-packages (2.1.0)\n",
      "Requirement already satisfied: numpy>=1.11.3 in /anaconda3/lib/python3.7/site-packages (from category_encoders==2.*) (1.16.4)\n",
      "Requirement already satisfied: statsmodels>=0.6.1 in /anaconda3/lib/python3.7/site-packages (from category_encoders==2.*) (0.10.0)\n",
      "Requirement already satisfied: patsy>=0.4.1 in /anaconda3/lib/python3.7/site-packages (from category_encoders==2.*) (0.5.1)\n",
      "Requirement already satisfied: pandas>=0.21.1 in /anaconda3/lib/python3.7/site-packages (from category_encoders==2.*) (0.24.2)\n",
      "Requirement already satisfied: scipy>=0.19.0 in /anaconda3/lib/python3.7/site-packages (from category_encoders==2.*) (1.3.0)\n",
      "Requirement already satisfied: scikit-learn>=0.20.0 in /anaconda3/lib/python3.7/site-packages (from category_encoders==2.*) (0.21.2)\n",
      "Requirement already satisfied: six in /anaconda3/lib/python3.7/site-packages (from patsy>=0.4.1->category_encoders==2.*) (1.12.0)\n",
      "Requirement already satisfied: python-dateutil>=2.5.0 in /anaconda3/lib/python3.7/site-packages (from pandas>=0.21.1->category_encoders==2.*) (2.8.0)\n",
      "Requirement already satisfied: pytz>=2011k in /anaconda3/lib/python3.7/site-packages (from pandas>=0.21.1->category_encoders==2.*) (2019.1)\n",
      "Requirement already satisfied: joblib>=0.11 in /anaconda3/lib/python3.7/site-packages (from scikit-learn>=0.20.0->category_encoders==2.*) (0.13.2)\n",
      "Requirement already satisfied: eli5 in /anaconda3/lib/python3.7/site-packages (0.10.1)\n",
      "Requirement already satisfied: six in /anaconda3/lib/python3.7/site-packages (from eli5) (1.12.0)\n",
      "Requirement already satisfied: jinja2 in /anaconda3/lib/python3.7/site-packages (from eli5) (2.10.1)\n",
      "Requirement already satisfied: numpy>=1.9.0 in /anaconda3/lib/python3.7/site-packages (from eli5) (1.16.4)\n",
      "Requirement already satisfied: graphviz in /anaconda3/lib/python3.7/site-packages (from eli5) (0.13)\n",
      "Requirement already satisfied: tabulate>=0.7.7 in /anaconda3/lib/python3.7/site-packages (from eli5) (0.8.5)\n",
      "Requirement already satisfied: attrs>16.0.0 in /anaconda3/lib/python3.7/site-packages (from eli5) (19.1.0)\n",
      "Requirement already satisfied: scikit-learn>=0.18 in /anaconda3/lib/python3.7/site-packages (from eli5) (0.21.2)\n",
      "Requirement already satisfied: scipy in /anaconda3/lib/python3.7/site-packages (from eli5) (1.3.0)\n",
      "Requirement already satisfied: MarkupSafe>=0.23 in /anaconda3/lib/python3.7/site-packages (from jinja2->eli5) (1.1.1)\n",
      "Requirement already satisfied: joblib>=0.11 in /anaconda3/lib/python3.7/site-packages (from scikit-learn>=0.18->eli5) (0.13.2)\n"
     ]
    }
   ],
   "source": [
    "!pip install category_encoders==2.*\n",
    "!pip install eli5"
   ]
  },
  {
   "cell_type": "code",
   "execution_count": 23,
   "metadata": {},
   "outputs": [],
   "source": [
    "import pandas as pd\n",
    "import numpy as np"
   ]
  },
  {
   "cell_type": "markdown",
   "metadata": {
    "colab_type": "text",
    "id": "AdUHlkvi1wC8"
   },
   "source": [
    "#### cover type data set"
   ]
  },
  {
   "cell_type": "code",
   "execution_count": 71,
   "metadata": {
    "colab": {
     "base_uri": "https://localhost:8080/",
     "height": 400,
     "resources": {
      "http://localhost:8080/nbextensions/google.colab/files.js": {
       "data": "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",
       "headers": [
        [
         "content-type",
         "application/javascript"
        ]
       ],
       "ok": true,
       "status": 200,
       "status_text": ""
      }
     }
    },
    "colab_type": "code",
    "id": "3U9chSqt04fp",
    "outputId": "37266fa3-39d6-4cdf-caaa-ab60cf76052b"
   },
   "outputs": [],
   "source": [
    "\n",
    "col_hdrs =['Elevation','Aspect','Slope','Horizontal_Distance_To_Hydrology',\n",
    "           'Vertical_Distance_To_Hydrology','Horizontal_Distance_To_Roadways',\n",
    "           'Hillshade_9am','Hillshade_Noon','Hillshade_3pm',\n",
    "           'Horizontal_Distance_To_Fire_Points',\n",
    "           'Wilderness_Area_Rawah','Wilderness_Area_Neota',\n",
    "           'Wilderness_Area_Comanche_Peak','Wilderness_Area_Cache_la_Poudre',\n",
    "           'Soil_Type_2702','Soil_Type_2703','Soil_Type_2704','Soil_Type_2705','Soil_Type_2706',\n",
    "           'Soil_Type_2717','Soil_Type_3501','Soil_Type_3502','Soil_Type_4201','Soil_Type_4703',\n",
    "           'Soil_Type_4704','Soil_Type_4744','Soil_Type_4758','Soil_Type_5101','Soil_Type_5151',\n",
    "           'Soil_Type_6101','Soil_Type_6102','Soil_Type_6731','Soil_Type_7101','Soil_Type_7102',\n",
    "           'Soil_Type_7103','Soil_Type_7201','Soil_Type_7202','Soil_Type_7700','Soil_Type_7701',\n",
    "           'Soil_Type_7702','Soil_Type_7709','Soil_Type_7710','Soil_Type_7745','Soil_Type_7746',\n",
    "           'Soil_Type_7755','Soil_Type_7756','Soil_Type_7757','Soil_Type_7790','Soil_Type_8703',\n",
    "           'Soil_Type_8707','Soil_Type_8708','Soil_Type_8771','Soil_Type_8772','Soil_Type_8776',\n",
    "           \n",
    "            'Forest_Cover']\n",
    "df = pd.read_csv('covtype.data',header=None,names=col_hdrs)"
   ]
  },
  {
   "cell_type": "code",
   "execution_count": 62,
   "metadata": {
    "colab": {},
    "colab_type": "code",
    "id": "VC5bJ7TE19s8"
   },
   "outputs": [
    {
     "data": {
      "text/html": [
       "<div>\n",
       "<style scoped>\n",
       "    .dataframe tbody tr th:only-of-type {\n",
       "        vertical-align: middle;\n",
       "    }\n",
       "\n",
       "    .dataframe tbody tr th {\n",
       "        vertical-align: top;\n",
       "    }\n",
       "\n",
       "    .dataframe thead th {\n",
       "        text-align: right;\n",
       "    }\n",
       "</style>\n",
       "<table border=\"1\" class=\"dataframe\">\n",
       "  <thead>\n",
       "    <tr style=\"text-align: right;\">\n",
       "      <th></th>\n",
       "      <th>Wilderness_Area_Rawah</th>\n",
       "      <th>Wilderness_Area_Neota</th>\n",
       "      <th>Wilderness_Area_Comanche_Peak</th>\n",
       "      <th>Wilderness_Area_Cache_la_Poudre</th>\n",
       "    </tr>\n",
       "  </thead>\n",
       "  <tbody>\n",
       "    <tr>\n",
       "      <th>0</th>\n",
       "      <td>1</td>\n",
       "      <td>0</td>\n",
       "      <td>0</td>\n",
       "      <td>0</td>\n",
       "    </tr>\n",
       "    <tr>\n",
       "      <th>1</th>\n",
       "      <td>1</td>\n",
       "      <td>0</td>\n",
       "      <td>0</td>\n",
       "      <td>0</td>\n",
       "    </tr>\n",
       "    <tr>\n",
       "      <th>2</th>\n",
       "      <td>1</td>\n",
       "      <td>0</td>\n",
       "      <td>0</td>\n",
       "      <td>0</td>\n",
       "    </tr>\n",
       "    <tr>\n",
       "      <th>3</th>\n",
       "      <td>1</td>\n",
       "      <td>0</td>\n",
       "      <td>0</td>\n",
       "      <td>0</td>\n",
       "    </tr>\n",
       "    <tr>\n",
       "      <th>4</th>\n",
       "      <td>1</td>\n",
       "      <td>0</td>\n",
       "      <td>0</td>\n",
       "      <td>0</td>\n",
       "    </tr>\n",
       "  </tbody>\n",
       "</table>\n",
       "</div>"
      ],
      "text/plain": [
       "   Wilderness_Area_Rawah  Wilderness_Area_Neota  \\\n",
       "0                      1                      0   \n",
       "1                      1                      0   \n",
       "2                      1                      0   \n",
       "3                      1                      0   \n",
       "4                      1                      0   \n",
       "\n",
       "   Wilderness_Area_Comanche_Peak  Wilderness_Area_Cache_la_Poudre  \n",
       "0                              0                                0  \n",
       "1                              0                                0  \n",
       "2                              0                                0  \n",
       "3                              0                                0  \n",
       "4                              0                                0  "
      ]
     },
     "execution_count": 62,
     "metadata": {},
     "output_type": "execute_result"
    }
   ],
   "source": [
    "df[['Wilderness_Area_Rawah','Wilderness_Area_Neota',\n",
    "           'Wilderness_Area_Comanche_Peak','Wilderness_Area_Cache_la_Poudre',]].head()"
   ]
  },
  {
   "cell_type": "code",
   "execution_count": 66,
   "metadata": {},
   "outputs": [
    {
     "data": {
      "text/plain": [
       "(581012, 55)"
      ]
     },
     "execution_count": 66,
     "metadata": {},
     "output_type": "execute_result"
    }
   ],
   "source": [
    "df.shape"
   ]
  },
  {
   "cell_type": "code",
   "execution_count": 64,
   "metadata": {},
   "outputs": [
    {
     "data": {
      "text/plain": [
       "0    320216\n",
       "1    260796\n",
       "Name: Wilderness_Area_Rawah, dtype: int64"
      ]
     },
     "execution_count": 64,
     "metadata": {},
     "output_type": "execute_result"
    }
   ],
   "source": [
    "df['Wilderness_Area_Rawah'].value_counts()"
   ]
  },
  {
   "cell_type": "code",
   "execution_count": 72,
   "metadata": {},
   "outputs": [],
   "source": [
    "Wilderness_Area_Rawah_map ={1:'Rawah', 0:''}\n",
    "Wilderness_Area_Neota_map ={1:'Neota', 0:''}\n",
    "Wilderness_Area_Comanche_Peak_map ={1:'Comanche Peak', 0:''}\n",
    "Wilderness_Area_Cache_la_Poudre_map ={1:'Cache la Poudre', 0:''}\n",
    "df['Wilderness_Area_Rawah'] = df['Wilderness_Area_Rawah'].map(Wilderness_Area_Rawah_map)\n",
    "df['Wilderness_Area_Neota'] = df['Wilderness_Area_Neota'].map(Wilderness_Area_Neota_map)\n",
    "df['Wilderness_Area_Comanche_Peak'] = df['Wilderness_Area_Comanche_Peak'].map(Wilderness_Area_Comanche_Peak_map)\n",
    "df['Wilderness_Area_Cache_la_Poudre'] = df['Wilderness_Area_Cache_la_Poudre'].map(Wilderness_Area_Cache_la_Poudre_map)"
   ]
  },
  {
   "cell_type": "code",
   "execution_count": 73,
   "metadata": {},
   "outputs": [],
   "source": [
    "df['Wilderness_Area'] = df['Wilderness_Area_Rawah'] + df['Wilderness_Area_Neota'] + df['Wilderness_Area_Comanche_Peak'] + df['Wilderness_Area_Cache_la_Poudre']"
   ]
  },
  {
   "cell_type": "code",
   "execution_count": 74,
   "metadata": {},
   "outputs": [
    {
     "data": {
      "text/plain": [
       "Rawah              260796\n",
       "Comanche Peak      253364\n",
       "Cache la Poudre     36968\n",
       "Neota               29884\n",
       "Name: Wilderness_Area, dtype: int64"
      ]
     },
     "execution_count": 74,
     "metadata": {},
     "output_type": "execute_result"
    }
   ],
   "source": [
    "df['Wilderness_Area'].value_counts()"
   ]
  },
  {
   "cell_type": "code",
   "execution_count": 55,
   "metadata": {},
   "outputs": [
    {
     "data": {
      "text/plain": [
       "         551128\n",
       "Neota     29884\n",
       "Name: Wilderness_Area_Neota, dtype: int64"
      ]
     },
     "execution_count": 55,
     "metadata": {},
     "output_type": "execute_result"
    }
   ],
   "source": [
    "df['Wilderness_Area_Neota'].value_counts()"
   ]
  },
  {
   "cell_type": "code",
   "execution_count": 58,
   "metadata": {},
   "outputs": [
    {
     "data": {
      "text/plain": [
       "0    577981\n",
       "1      3031\n",
       "Name: Soil_Type_2702, dtype: int64"
      ]
     },
     "execution_count": 58,
     "metadata": {},
     "output_type": "execute_result"
    }
   ],
   "source": [
    "df['Soil_Type_2702'].value_counts()"
   ]
  },
  {
   "cell_type": "code",
   "execution_count": 75,
   "metadata": {},
   "outputs": [],
   "source": [
    "Soil_Type_2702_map = {1:'2702', 0:''}\n",
    "Soil_Type_2703_map = {1:'2703', 0:''}\n",
    "Soil_Type_2704_map = {1:'2704', 0:''}\n",
    "Soil_Type_2705_map = {1:'2705', 0:''}\n",
    "Soil_Type_2706_map = {1:'2706', 0:''}\n",
    "\n",
    "Soil_Type_2717_map = {1:'2717', 0:''}\n",
    "Soil_Type_3501_map = {1:'3501', 0:''}\n",
    "Soil_Type_3502_map = {1:'3502', 0:''}\n",
    "Soil_Type_4201_map = {1:'4201', 0:''}\n",
    "Soil_Type_4703_map = {1:'4703', 0:''}\n",
    "\n",
    "Soil_Type_4704_map = {1:'4704', 0:''}\n",
    "Soil_Type_4744_map = {1:'4744', 0:''}\n",
    "Soil_Type_4758_map = {1:'4758', 0:''}\n",
    "Soil_Type_5101_map = {1:'5101', 0:''}\n",
    "Soil_Type_5151_map = {1:'5151', 0:''}\n",
    "\n",
    "Soil_Type_6101_map = {1:'6101', 0:''}\n",
    "Soil_Type_6102_map = {1:'6102', 0:''}\n",
    "Soil_Type_6731_map = {1:'6731', 0:''}\n",
    "Soil_Type_7101_map = {1:'7101', 0:''}\n",
    "Soil_Type_7102_map = {1:'7102', 0:''}\n",
    "\n",
    "Soil_Type_7103_map = {1:'7103', 0:''}\n",
    "Soil_Type_7201_map = {1:'7201', 0:''}\n",
    "Soil_Type_7202_map = {1:'7202', 0:''}\n",
    "Soil_Type_7700_map = {1:'7700', 0:''}\n",
    "Soil_Type_7701_map = {1:'7701', 0:''}\n",
    "\n",
    "Soil_Type_7702_map = {1:'7702', 0:''}\n",
    "Soil_Type_7709_map = {1:'7709', 0:''}\n",
    "Soil_Type_7710_map = {1:'7710', 0:''}\n",
    "Soil_Type_7745_map = {1:'7745', 0:''}\n",
    "Soil_Type_7746_map = {1:'7746', 0:''}\n",
    "\n",
    "Soil_Type_7755_map = {1:'7755', 0:''}\n",
    "Soil_Type_7756_map = {1:'7756', 0:''}\n",
    "Soil_Type_7757_map = {1:'7757', 0:''}\n",
    "Soil_Type_7790_map = {1:'7790', 0:''}\n",
    "Soil_Type_8703_map = {1:'8703', 0:''}\n",
    "\n",
    "Soil_Type_8707_map = {1:'8707', 0:''}\n",
    "Soil_Type_8708_map = {1:'8708', 0:''}\n",
    "Soil_Type_8771_map = {1:'8771', 0:''}\n",
    "Soil_Type_8772_map = {1:'8772', 0:''}\n",
    "Soil_Type_8776_map = {1:'8776', 0:''}\n",
    "\n",
    "df['Soil_Type_2702'] = df['Soil_Type_2702'].map(Soil_Type_2702_map)\n",
    "df['Soil_Type_2703'] = df['Soil_Type_2703'].map(Soil_Type_2703_map)\n",
    "df['Soil_Type_2704'] = df['Soil_Type_2704'].map(Soil_Type_2704_map)\n",
    "df['Soil_Type_2705'] = df['Soil_Type_2705'].map(Soil_Type_2705_map)\n",
    "df['Soil_Type_2706'] = df['Soil_Type_2706'].map(Soil_Type_2706_map)\n",
    "\n",
    "df['Soil_Type_2717'] = df['Soil_Type_2717'].map(Soil_Type_2717_map)\n",
    "df['Soil_Type_3501'] = df['Soil_Type_3501'].map(Soil_Type_3501_map)\n",
    "df['Soil_Type_3502'] = df['Soil_Type_3502'].map(Soil_Type_3502_map)\n",
    "df['Soil_Type_4201'] = df['Soil_Type_4201'].map(Soil_Type_4201_map)\n",
    "df['Soil_Type_4703'] = df['Soil_Type_4703'].map(Soil_Type_4703_map)\n",
    "\n",
    "df['Soil_Type_4704'] = df['Soil_Type_4704'].map(Soil_Type_4704_map)\n",
    "df['Soil_Type_4744'] = df['Soil_Type_4744'].map(Soil_Type_4744_map)\n",
    "df['Soil_Type_4758'] = df['Soil_Type_4758'].map(Soil_Type_4758_map)\n",
    "df['Soil_Type_5101'] = df['Soil_Type_5101'].map(Soil_Type_5101_map)\n",
    "df['Soil_Type_5151'] = df['Soil_Type_5151'].map(Soil_Type_5151_map)\n",
    "\n",
    "df['Soil_Type_6101'] = df['Soil_Type_6101'].map(Soil_Type_6101_map)\n",
    "df['Soil_Type_6102'] = df['Soil_Type_6102'].map(Soil_Type_6102_map)\n",
    "df['Soil_Type_6731'] = df['Soil_Type_6731'].map(Soil_Type_6731_map)\n",
    "df['Soil_Type_7101'] = df['Soil_Type_7101'].map(Soil_Type_7101_map)\n",
    "df['Soil_Type_7102'] = df['Soil_Type_7102'].map(Soil_Type_7102_map)\n",
    "\n",
    "df['Soil_Type_7103'] = df['Soil_Type_7103'].map(Soil_Type_7103_map)\n",
    "df['Soil_Type_7201'] = df['Soil_Type_7201'].map(Soil_Type_7201_map)\n",
    "df['Soil_Type_7202'] = df['Soil_Type_7202'].map(Soil_Type_7202_map)\n",
    "df['Soil_Type_7700'] = df['Soil_Type_7700'].map(Soil_Type_7700_map)\n",
    "df['Soil_Type_7701'] = df['Soil_Type_7701'].map(Soil_Type_7701_map)\n",
    "\n",
    "df['Soil_Type_7702'] = df['Soil_Type_7702'].map(Soil_Type_7702_map)\n",
    "df['Soil_Type_7709'] = df['Soil_Type_7709'].map(Soil_Type_7709_map)\n",
    "df['Soil_Type_7710'] = df['Soil_Type_7710'].map(Soil_Type_7710_map)\n",
    "df['Soil_Type_7745'] = df['Soil_Type_7745'].map(Soil_Type_7745_map)\n",
    "df['Soil_Type_7746'] = df['Soil_Type_7746'].map(Soil_Type_7746_map)\n",
    "\n",
    "df['Soil_Type_7755'] = df['Soil_Type_7755'].map(Soil_Type_7755_map)\n",
    "df['Soil_Type_7756'] = df['Soil_Type_7756'].map(Soil_Type_7756_map)\n",
    "df['Soil_Type_7757'] = df['Soil_Type_7757'].map(Soil_Type_7757_map)\n",
    "df['Soil_Type_7790'] = df['Soil_Type_7790'].map(Soil_Type_7790_map)\n",
    "df['Soil_Type_8703'] = df['Soil_Type_8703'].map(Soil_Type_8703_map)\n",
    "\n",
    "df['Soil_Type_8707'] = df['Soil_Type_8707'].map(Soil_Type_8707_map)\n",
    "df['Soil_Type_8708'] = df['Soil_Type_8708'].map(Soil_Type_8708_map)\n",
    "df['Soil_Type_8771'] = df['Soil_Type_8771'].map(Soil_Type_8771_map)\n",
    "df['Soil_Type_8772'] = df['Soil_Type_8772'].map(Soil_Type_8772_map)\n",
    "df['Soil_Type_8776'] = df['Soil_Type_8776'].map(Soil_Type_8776_map)\n"
   ]
  },
  {
   "cell_type": "code",
   "execution_count": 60,
   "metadata": {},
   "outputs": [
    {
     "data": {
      "text/plain": [
       "        577981\n",
       "2702      3031\n",
       "Name: Soil_Type_2702, dtype: int64"
      ]
     },
     "execution_count": 60,
     "metadata": {},
     "output_type": "execute_result"
    }
   ],
   "source": [
    "df['Soil_Type_2702'].value_counts()"
   ]
  },
  {
   "cell_type": "code",
   "execution_count": 67,
   "metadata": {},
   "outputs": [],
   "source": [
    "df['Wilderness_Area'] = (df['Wilderness_Area_Rawah'] + df['Wilderness_Area_Neota'] + \n",
    "                         df['Wilderness_Area_Comanche_Peak'] + \n",
    "                         df['Wilderness_Area_Cache_la_Poudre'])"
   ]
  },
  {
   "cell_type": "code",
   "execution_count": 68,
   "metadata": {},
   "outputs": [
    {
     "data": {
      "text/plain": [
       "1    581012\n",
       "Name: Wilderness_Area, dtype: int64"
      ]
     },
     "execution_count": 68,
     "metadata": {},
     "output_type": "execute_result"
    }
   ],
   "source": [
    "df['Wilderness_Area'].value_counts()"
   ]
  },
  {
   "cell_type": "code",
   "execution_count": 76,
   "metadata": {},
   "outputs": [],
   "source": [
    "df['Soil_Type'] = (df['Soil_Type_2702']+\n",
    "                   df['Soil_Type_2703']+\n",
    "                    df['Soil_Type_2704']+\n",
    "                   df['Soil_Type_2705']+\n",
    "                df['Soil_Type_2706']+\n",
    "df['Soil_Type_2717']+\n",
    "df['Soil_Type_3501']+\n",
    "df['Soil_Type_3502']+\n",
    "df['Soil_Type_4201']+\n",
    "df['Soil_Type_4703']+\n",
    "   \n",
    "df['Soil_Type_4704']+\n",
    "df['Soil_Type_4744']+\n",
    "df['Soil_Type_4758']+\n",
    "df['Soil_Type_5101']+\n",
    "df['Soil_Type_5151']+\n",
    "df['Soil_Type_6101']+\n",
    "df['Soil_Type_6102']+\n",
    "df['Soil_Type_6731']+\n",
    "df['Soil_Type_7101']+\n",
    "df['Soil_Type_7102']+\n",
    "   \n",
    "df['Soil_Type_7103']+\n",
    "df['Soil_Type_7201']+\n",
    "df['Soil_Type_7202']+\n",
    "df['Soil_Type_7700']+\n",
    "df['Soil_Type_7701']+\n",
    "   \n",
    "df['Soil_Type_7702']+\n",
    "df['Soil_Type_7709']+\n",
    "df['Soil_Type_7710']+\n",
    "df['Soil_Type_7745']+\n",
    "df['Soil_Type_7746']+\n",
    "   \n",
    "df['Soil_Type_7755']+\n",
    "df['Soil_Type_7756']+\n",
    "df['Soil_Type_7757']+\n",
    "df['Soil_Type_7790']+\n",
    "df['Soil_Type_8703']+\n",
    "   \n",
    "df['Soil_Type_8707']+\n",
    "df['Soil_Type_8708']+\n",
    "df['Soil_Type_8771']+\n",
    "df['Soil_Type_8772']+\n",
    "df['Soil_Type_8776'])"
   ]
  },
  {
   "cell_type": "code",
   "execution_count": 77,
   "metadata": {},
   "outputs": [
    {
     "data": {
      "text/plain": [
       "7745    115247\n",
       "7202     57752\n",
       "7756     52519\n",
       "7757     45154\n",
       "7201     33373\n",
       "4703     32634\n",
       "7746     30170\n",
       "4744     29971\n",
       "7755     25666\n",
       "7700     21278\n",
       "4758     17431\n",
       "8771     15573\n",
       "8772     13806\n",
       "4704     12410\n",
       "2705     12396\n",
       "7102      9259\n",
       "8776      8750\n",
       "2703      7525\n",
       "2717      6575\n",
       "2704      4823\n",
       "7101      4021\n",
       "6102      3422\n",
       "2702      3031\n",
       "6101      2845\n",
       "7702      2589\n",
       "6731      1899\n",
       "8703      1891\n",
       "7790      1611\n",
       "2706      1597\n",
       "4201      1147\n",
       "7709      1086\n",
       "7710       946\n",
       "7103       838\n",
       "5101       599\n",
       "7701       474\n",
       "8708       298\n",
       "3502       179\n",
       "8707       119\n",
       "3501       105\n",
       "5151         3\n",
       "Name: Soil_Type, dtype: int64"
      ]
     },
     "execution_count": 77,
     "metadata": {},
     "output_type": "execute_result"
    }
   ],
   "source": [
    "df['Soil_Type'].value_counts()"
   ]
  },
  {
   "cell_type": "code",
   "execution_count": 78,
   "metadata": {},
   "outputs": [
    {
     "data": {
      "text/plain": [
       "(581012, 57)"
      ]
     },
     "execution_count": 78,
     "metadata": {},
     "output_type": "execute_result"
    }
   ],
   "source": [
    "df.shape"
   ]
  },
  {
   "cell_type": "code",
   "execution_count": 81,
   "metadata": {},
   "outputs": [],
   "source": [
    "col_names=(['Wilderness_Area_Rawah','Wilderness_Area_Neota',\n",
    "           'Wilderness_Area_Comanche_Peak','Wilderness_Area_Cache_la_Poudre',\n",
    "           'Soil_Type_2702','Soil_Type_2703','Soil_Type_2704','Soil_Type_2705','Soil_Type_2706',\n",
    "           'Soil_Type_2717','Soil_Type_3501','Soil_Type_3502','Soil_Type_4201','Soil_Type_4703',\n",
    "           'Soil_Type_4704','Soil_Type_4744','Soil_Type_4758','Soil_Type_5101','Soil_Type_5151',\n",
    "           'Soil_Type_6101','Soil_Type_6102','Soil_Type_6731','Soil_Type_7101','Soil_Type_7102',\n",
    "           'Soil_Type_7103','Soil_Type_7201','Soil_Type_7202','Soil_Type_7700','Soil_Type_7701',\n",
    "           'Soil_Type_7702','Soil_Type_7709','Soil_Type_7710','Soil_Type_7745','Soil_Type_7746',\n",
    "           'Soil_Type_7755','Soil_Type_7756','Soil_Type_7757','Soil_Type_7790','Soil_Type_8703',\n",
    "           'Soil_Type_8707','Soil_Type_8708','Soil_Type_8771','Soil_Type_8772','Soil_Type_8776'])\n",
    "df_new = df.drop(columns=col_names)"
   ]
  },
  {
   "cell_type": "code",
   "execution_count": 83,
   "metadata": {},
   "outputs": [
    {
     "data": {
      "text/plain": [
       "(581012, 13)"
      ]
     },
     "execution_count": 83,
     "metadata": {},
     "output_type": "execute_result"
    }
   ],
   "source": [
    "df_new.shape"
   ]
  },
  {
   "cell_type": "code",
   "execution_count": 84,
   "metadata": {},
   "outputs": [
    {
     "data": {
      "text/html": [
       "<div>\n",
       "<style scoped>\n",
       "    .dataframe tbody tr th:only-of-type {\n",
       "        vertical-align: middle;\n",
       "    }\n",
       "\n",
       "    .dataframe tbody tr th {\n",
       "        vertical-align: top;\n",
       "    }\n",
       "\n",
       "    .dataframe thead th {\n",
       "        text-align: right;\n",
       "    }\n",
       "</style>\n",
       "<table border=\"1\" class=\"dataframe\">\n",
       "  <thead>\n",
       "    <tr style=\"text-align: right;\">\n",
       "      <th></th>\n",
       "      <th>Elevation</th>\n",
       "      <th>Aspect</th>\n",
       "      <th>Slope</th>\n",
       "      <th>Horizontal_Distance_To_Hydrology</th>\n",
       "      <th>Vertical_Distance_To_Hydrology</th>\n",
       "      <th>Horizontal_Distance_To_Roadways</th>\n",
       "      <th>Hillshade_9am</th>\n",
       "      <th>Hillshade_Noon</th>\n",
       "      <th>Hillshade_3pm</th>\n",
       "      <th>Horizontal_Distance_To_Fire_Points</th>\n",
       "      <th>Forest_Cover</th>\n",
       "      <th>Wilderness_Area</th>\n",
       "      <th>Soil_Type</th>\n",
       "    </tr>\n",
       "  </thead>\n",
       "  <tbody>\n",
       "    <tr>\n",
       "      <th>0</th>\n",
       "      <td>2596</td>\n",
       "      <td>51</td>\n",
       "      <td>3</td>\n",
       "      <td>258</td>\n",
       "      <td>0</td>\n",
       "      <td>510</td>\n",
       "      <td>221</td>\n",
       "      <td>232</td>\n",
       "      <td>148</td>\n",
       "      <td>6279</td>\n",
       "      <td>5</td>\n",
       "      <td>Rawah</td>\n",
       "      <td>7745</td>\n",
       "    </tr>\n",
       "    <tr>\n",
       "      <th>1</th>\n",
       "      <td>2590</td>\n",
       "      <td>56</td>\n",
       "      <td>2</td>\n",
       "      <td>212</td>\n",
       "      <td>-6</td>\n",
       "      <td>390</td>\n",
       "      <td>220</td>\n",
       "      <td>235</td>\n",
       "      <td>151</td>\n",
       "      <td>6225</td>\n",
       "      <td>5</td>\n",
       "      <td>Rawah</td>\n",
       "      <td>7745</td>\n",
       "    </tr>\n",
       "    <tr>\n",
       "      <th>2</th>\n",
       "      <td>2804</td>\n",
       "      <td>139</td>\n",
       "      <td>9</td>\n",
       "      <td>268</td>\n",
       "      <td>65</td>\n",
       "      <td>3180</td>\n",
       "      <td>234</td>\n",
       "      <td>238</td>\n",
       "      <td>135</td>\n",
       "      <td>6121</td>\n",
       "      <td>2</td>\n",
       "      <td>Rawah</td>\n",
       "      <td>4744</td>\n",
       "    </tr>\n",
       "    <tr>\n",
       "      <th>3</th>\n",
       "      <td>2785</td>\n",
       "      <td>155</td>\n",
       "      <td>18</td>\n",
       "      <td>242</td>\n",
       "      <td>118</td>\n",
       "      <td>3090</td>\n",
       "      <td>238</td>\n",
       "      <td>238</td>\n",
       "      <td>122</td>\n",
       "      <td>6211</td>\n",
       "      <td>2</td>\n",
       "      <td>Rawah</td>\n",
       "      <td>7746</td>\n",
       "    </tr>\n",
       "    <tr>\n",
       "      <th>4</th>\n",
       "      <td>2595</td>\n",
       "      <td>45</td>\n",
       "      <td>2</td>\n",
       "      <td>153</td>\n",
       "      <td>-1</td>\n",
       "      <td>391</td>\n",
       "      <td>220</td>\n",
       "      <td>234</td>\n",
       "      <td>150</td>\n",
       "      <td>6172</td>\n",
       "      <td>5</td>\n",
       "      <td>Rawah</td>\n",
       "      <td>7745</td>\n",
       "    </tr>\n",
       "  </tbody>\n",
       "</table>\n",
       "</div>"
      ],
      "text/plain": [
       "   Elevation  Aspect  Slope  Horizontal_Distance_To_Hydrology  \\\n",
       "0       2596      51      3                               258   \n",
       "1       2590      56      2                               212   \n",
       "2       2804     139      9                               268   \n",
       "3       2785     155     18                               242   \n",
       "4       2595      45      2                               153   \n",
       "\n",
       "   Vertical_Distance_To_Hydrology  Horizontal_Distance_To_Roadways  \\\n",
       "0                               0                              510   \n",
       "1                              -6                              390   \n",
       "2                              65                             3180   \n",
       "3                             118                             3090   \n",
       "4                              -1                              391   \n",
       "\n",
       "   Hillshade_9am  Hillshade_Noon  Hillshade_3pm  \\\n",
       "0            221             232            148   \n",
       "1            220             235            151   \n",
       "2            234             238            135   \n",
       "3            238             238            122   \n",
       "4            220             234            150   \n",
       "\n",
       "   Horizontal_Distance_To_Fire_Points  Forest_Cover Wilderness_Area Soil_Type  \n",
       "0                                6279             5           Rawah      7745  \n",
       "1                                6225             5           Rawah      7745  \n",
       "2                                6121             2           Rawah      4744  \n",
       "3                                6211             2           Rawah      7746  \n",
       "4                                6172             5           Rawah      7745  "
      ]
     },
     "execution_count": 84,
     "metadata": {},
     "output_type": "execute_result"
    }
   ],
   "source": [
    "df_new.head()"
   ]
  },
  {
   "cell_type": "code",
   "execution_count": 87,
   "metadata": {},
   "outputs": [],
   "source": [
    "df_new.to_csv('forest_cover.csv',index=False)"
   ]
  },
  {
   "cell_type": "code",
   "execution_count": null,
   "metadata": {},
   "outputs": [],
   "source": []
  },
  {
   "cell_type": "code",
   "execution_count": 74,
   "metadata": {},
   "outputs": [
    {
     "data": {
      "text/plain": [
       "2    283301\n",
       "1    211840\n",
       "3     35754\n",
       "7     20510\n",
       "6     17367\n",
       "5      9493\n",
       "4      2747\n",
       "Name: y, dtype: int64"
      ]
     },
     "execution_count": 74,
     "metadata": {},
     "output_type": "execute_result"
    }
   ],
   "source": [
    "df['y'].value_counts()"
   ]
  },
  {
   "cell_type": "code",
   "execution_count": null,
   "metadata": {},
   "outputs": [],
   "source": []
  },
  {
   "cell_type": "code",
   "execution_count": null,
   "metadata": {},
   "outputs": [],
   "source": []
  },
  {
   "cell_type": "code",
   "execution_count": 89,
   "metadata": {},
   "outputs": [],
   "source": [
    "from sklearn.model_selection import train_test_split\n",
    "\n",
    "train,test = train_test_split(df_new, test_size=0.95, \n",
    "                              random_state=45,stratify=df['Forest_Cover'])"
   ]
  },
  {
   "cell_type": "code",
   "execution_count": 130,
   "metadata": {},
   "outputs": [
    {
     "data": {
      "text/plain": [
       "((29050, 55), (551962, 55))"
      ]
     },
     "execution_count": 130,
     "metadata": {},
     "output_type": "execute_result"
    }
   ],
   "source": [
    "train.shape,test.shape"
   ]
  },
  {
   "cell_type": "code",
   "execution_count": 90,
   "metadata": {},
   "outputs": [],
   "source": [
    "train,val = train_test_split(train, test_size=0.2, \n",
    "                              random_state=45,stratify=train['Forest_Cover'])"
   ]
  },
  {
   "cell_type": "code",
   "execution_count": 91,
   "metadata": {},
   "outputs": [
    {
     "data": {
      "text/plain": [
       "((23240, 13), (5810, 13))"
      ]
     },
     "execution_count": 91,
     "metadata": {},
     "output_type": "execute_result"
    }
   ],
   "source": [
    "train.shape,val.shape"
   ]
  },
  {
   "cell_type": "code",
   "execution_count": 92,
   "metadata": {},
   "outputs": [],
   "source": [
    "target = ['Forest_Cover']\n",
    "# features =['x1','x2','x3']\n",
    "\n",
    "\n",
    "X_train = train.drop(columns=target)\n",
    "y_train = train[target]\n",
    "\n",
    "X_val = val.drop(columns=target)\n",
    "y_val = val[target]\n",
    "\n",
    "X_test = test.drop(columns=target)\n",
    "y_test = test[target]"
   ]
  },
  {
   "cell_type": "code",
   "execution_count": 93,
   "metadata": {},
   "outputs": [
    {
     "data": {
      "text/plain": [
       "((23240, 12), (23240, 1))"
      ]
     },
     "execution_count": 93,
     "metadata": {},
     "output_type": "execute_result"
    }
   ],
   "source": [
    "X_train.shape , y_train.shape"
   ]
  },
  {
   "cell_type": "code",
   "execution_count": 94,
   "metadata": {},
   "outputs": [
    {
     "data": {
      "text/plain": [
       "Forest_Cover    int64\n",
       "dtype: object"
      ]
     },
     "execution_count": 94,
     "metadata": {},
     "output_type": "execute_result"
    }
   ],
   "source": [
    "y_train.dtypes.T"
   ]
  },
  {
   "cell_type": "code",
   "execution_count": 95,
   "metadata": {},
   "outputs": [
    {
     "name": "stdout",
     "output_type": "stream",
     "text": [
      "0.8506024096385543\n"
     ]
    }
   ],
   "source": [
    "import category_encoders as ce\n",
    "from sklearn.impute import SimpleImputer\n",
    "from sklearn.ensemble import RandomForestClassifier\n",
    "from sklearn.pipeline import make_pipeline\n",
    "import numpy as np\n",
    "pipeline = make_pipeline(\n",
    "  ce.OrdinalEncoder(),\n",
    "  SimpleImputer(),\n",
    "  RandomForestClassifier(n_estimators=100,random_state=45,n_jobs=-1)\n",
    ")\n",
    "\n",
    "# Fit on train, score on val\n",
    "pipeline.fit(X_train, y_train.values.reshape(-1,))\n",
    "print(pipeline.score(X_val, y_val.values.reshape(-1,)))\n"
   ]
  },
  {
   "cell_type": "code",
   "execution_count": 97,
   "metadata": {},
   "outputs": [
    {
     "data": {
      "image/png": "[encoded data removed]",
      "text/plain": [
       "<Figure size 720x432 with 1 Axes>"
      ]
     },
     "metadata": {
      "needs_background": "light"
     },
     "output_type": "display_data"
    }
   ],
   "source": [
    "## default feature importance\n",
    "\n",
    "# Get feature importances\n",
    "rf = pipeline.named_steps['randomforestclassifier']\n",
    "importances = pd.Series(rf.feature_importances_, X_train.columns)\n",
    "\n",
    "# Plot feature importances\n",
    "%matplotlib inline\n",
    "import matplotlib.pyplot as plt\n",
    "\n",
    "n = 12\n",
    "plt.figure(figsize=(10,n/2))\n",
    "plt.title(f'Top {n} features')\n",
    "importances.sort_values()[-n:].plot.barh(color='grey');"
   ]
  },
  {
   "cell_type": "code",
   "execution_count": 98,
   "metadata": {},
   "outputs": [
    {
     "name": "stdout",
     "output_type": "stream",
     "text": [
      "Validation Accuracy without ['Elevation']: 0.7967297762478486\n",
      "Validation Accuracy with ['Elevation']: 0.8507745266781411\n",
      "Drop-Column Importance for ['Elevation']: 0.054044750430292554\n"
     ]
    }
   ],
   "source": [
    "### drop columns\n",
    "\n",
    "column = ['Elevation']\n",
    "\n",
    "# Fit without column\n",
    "pipeline = make_pipeline(\n",
    "    ce.OrdinalEncoder(), \n",
    "    SimpleImputer(strategy='median'), \n",
    "    RandomForestClassifier(n_estimators=100, random_state=42, n_jobs=-1)\n",
    ")\n",
    "pipeline.fit(X_train.drop(columns=column), y_train.values.reshape(-1,))\n",
    "score_without = pipeline.score(X_val.drop(columns=column), y_val.values.reshape(-1,))\n",
    "print(f'Validation Accuracy without {column}: {score_without}')\n",
    "\n",
    "# Fit with column\n",
    "pipeline = make_pipeline(\n",
    "    ce.OrdinalEncoder(), \n",
    "    SimpleImputer(strategy='median'), \n",
    "    RandomForestClassifier(n_estimators=100, random_state=42, n_jobs=-1)\n",
    ")\n",
    "pipeline.fit(X_train, y_train.values.reshape(-1,))\n",
    "score_with = pipeline.score(X_val, y_val.values.reshape(-1,))\n",
    "print(f'Validation Accuracy with {column}: {score_with}')\n",
    "\n",
    "# Compare the error with & without column\n",
    "print(f'Drop-Column Importance for {column}: {score_with - score_without}')"
   ]
  },
  {
   "cell_type": "code",
   "execution_count": 99,
   "metadata": {},
   "outputs": [
    {
     "data": {
      "text/plain": [
       "569690    2824\n",
       "402458    3141\n",
       "499736    2963\n",
       "249099    3020\n",
       "29703     3129\n",
       "Name: Elevation, dtype: int64"
      ]
     },
     "execution_count": 99,
     "metadata": {},
     "output_type": "execute_result"
    }
   ],
   "source": [
    "# permutation importance\n",
    "# BEFORE: Sequence of the feature to be permuted\n",
    "feature = 'Elevation'\n",
    "X_val[feature].head()"
   ]
  },
  {
   "cell_type": "code",
   "execution_count": 100,
   "metadata": {},
   "outputs": [
    {
     "data": {
      "text/plain": [
       "2959    24\n",
       "2962    22\n",
       "3191    21\n",
       "2998    21\n",
       "2978    21\n",
       "2939    20\n",
       "3070    20\n",
       "3001    19\n",
       "2968    18\n",
       "3201    18\n",
       "3103    17\n",
       "2982    17\n",
       "3175    17\n",
       "2972    17\n",
       "2995    17\n",
       "3021    17\n",
       "3041    16\n",
       "2991    16\n",
       "3108    16\n",
       "3037    16\n",
       "3182    15\n",
       "3160    15\n",
       "3004    15\n",
       "3008    14\n",
       "2900    14\n",
       "3011    14\n",
       "3112    14\n",
       "3057    14\n",
       "3185    14\n",
       "3096    14\n",
       "        ..\n",
       "3380     1\n",
       "2572     1\n",
       "2592     1\n",
       "2612     1\n",
       "2628     1\n",
       "2720     1\n",
       "2744     1\n",
       "3304     1\n",
       "3328     1\n",
       "3340     1\n",
       "3352     1\n",
       "3368     1\n",
       "3372     1\n",
       "3376     1\n",
       "3388     1\n",
       "3828     1\n",
       "3396     1\n",
       "3400     1\n",
       "3404     1\n",
       "3436     1\n",
       "3448     1\n",
       "3468     1\n",
       "3496     1\n",
       "3532     1\n",
       "3576     1\n",
       "3664     1\n",
       "3688     1\n",
       "3696     1\n",
       "3736     1\n",
       "2057     1\n",
       "Name: Elevation, Length: 1243, dtype: int64"
      ]
     },
     "execution_count": 100,
     "metadata": {},
     "output_type": "execute_result"
    }
   ],
   "source": [
    "# BEFORE: Distribution of the feature to be permuted\n",
    "X_val[feature].value_counts()"
   ]
  },
  {
   "cell_type": "code",
   "execution_count": 101,
   "metadata": {},
   "outputs": [],
   "source": [
    "# PERMUTE!\n",
    "X_val_permuted = X_val.copy()\n",
    "X_val_permuted[feature] = np.random.permutation(X_val[feature])"
   ]
  },
  {
   "cell_type": "code",
   "execution_count": 102,
   "metadata": {},
   "outputs": [
    {
     "data": {
      "text/plain": [
       "569690    2890\n",
       "402458    2981\n",
       "499736    2929\n",
       "249099    3153\n",
       "29703     3255\n",
       "Name: Elevation, dtype: int64"
      ]
     },
     "execution_count": 102,
     "metadata": {},
     "output_type": "execute_result"
    }
   ],
   "source": [
    "# AFTER: Sequence has changed\n",
    "X_val_permuted[feature].head()"
   ]
  },
  {
   "cell_type": "code",
   "execution_count": 99,
   "metadata": {},
   "outputs": [
    {
     "data": {
      "text/plain": [
       "2962    360\n",
       "2988    353\n",
       "2968    350\n",
       "2955    328\n",
       "2975    325\n",
       "2991    325\n",
       "2972    321\n",
       "3004    319\n",
       "2998    313\n",
       "2959    310\n",
       "2978    308\n",
       "2985    307\n",
       "2945    301\n",
       "2982    300\n",
       "2952    300\n",
       "3011    298\n",
       "3014    297\n",
       "3001    296\n",
       "2965    296\n",
       "2995    295\n",
       "3034    295\n",
       "3008    292\n",
       "2932    288\n",
       "2942    288\n",
       "3031    281\n",
       "3021    280\n",
       "2922    272\n",
       "3018    268\n",
       "2939    264\n",
       "2919    263\n",
       "       ... \n",
       "3635      1\n",
       "3699      1\n",
       "3739      1\n",
       "1970      1\n",
       "1945      1\n",
       "1986      1\n",
       "3608      1\n",
       "3779      1\n",
       "3587      1\n",
       "3634      1\n",
       "3698      1\n",
       "3846      1\n",
       "3590      1\n",
       "3677      1\n",
       "3567      1\n",
       "3628      1\n",
       "2015      1\n",
       "3742      1\n",
       "1901      1\n",
       "3678      1\n",
       "3550      1\n",
       "3759      1\n",
       "1948      1\n",
       "3551      1\n",
       "1949      1\n",
       "3694      1\n",
       "3758      1\n",
       "3822      1\n",
       "3612      1\n",
       "3594      1\n",
       "Name: Elevation, Length: 1804, dtype: int64"
      ]
     },
     "execution_count": 99,
     "metadata": {},
     "output_type": "execute_result"
    }
   ],
   "source": [
    "# AFTER: Distribution hasn't changed!\n",
    "X_val_permuted[feature].value_counts()"
   ]
  },
  {
   "cell_type": "code",
   "execution_count": 103,
   "metadata": {},
   "outputs": [
    {
     "name": "stdout",
     "output_type": "stream",
     "text": [
      "Validation Accuracy with Elevation: 0.8507745266781411\n",
      "Validation Accuracy with Elevation permuted: 0.5110154905335629\n",
      "Permutation Importance: 0.33975903614457825\n"
     ]
    }
   ],
   "source": [
    "# Get the permutation importance\n",
    "# Notice that we don't need to refit the pipeline here!\n",
    "score_permuted = pipeline.score(X_val_permuted, y_val.values.reshape(-1,))\n",
    "\n",
    "print(f'Validation Accuracy with {feature}: {score_with}')\n",
    "print(f'Validation Accuracy with {feature} permuted: {score_permuted}')\n",
    "print(f'Permutation Importance: {score_with - score_permuted}')"
   ]
  },
  {
   "cell_type": "code",
   "execution_count": 104,
   "metadata": {},
   "outputs": [
    {
     "name": "stdout",
     "output_type": "stream",
     "text": [
      "Validation Accuracy with Soil_Type: 0.8507745266781411\n",
      "Validation Accuracy with Soil_Type permuted: 0.774526678141136\n",
      "Permutation Importance: 0.07624784853700517\n"
     ]
    }
   ],
   "source": [
    "# Rerun the permutation importance process, but for a different feature\n",
    "feature = 'Soil_Type'\n",
    "X_val_permuted = X_val.copy()\n",
    "X_val_permuted[feature] = np.random.permutation(X_val[feature])\n",
    "score_permuted = pipeline.score(X_val_permuted, y_val)\n",
    "\n",
    "print(f'Validation Accuracy with {feature}: {score_with}')\n",
    "print(f'Validation Accuracy with {feature} permuted: {score_permuted}')\n",
    "print(f'Permutation Importance: {score_with - score_permuted}')"
   ]
  },
  {
   "cell_type": "code",
   "execution_count": 105,
   "metadata": {},
   "outputs": [
    {
     "data": {
      "text/plain": [
       "RandomForestClassifier(bootstrap=True, class_weight=None, criterion='gini',\n",
       "                       max_depth=None, max_features='auto', max_leaf_nodes=None,\n",
       "                       min_impurity_decrease=0.0, min_impurity_split=None,\n",
       "                       min_samples_leaf=1, min_samples_split=2,\n",
       "                       min_weight_fraction_leaf=0.0, n_estimators=100,\n",
       "                       n_jobs=-1, oob_score=False, random_state=42, verbose=0,\n",
       "                       warm_start=False)"
      ]
     },
     "execution_count": 105,
     "metadata": {},
     "output_type": "execute_result"
    }
   ],
   "source": [
    "# with eli5 library\n",
    "transformers = make_pipeline(\n",
    "    ce.OrdinalEncoder(), \n",
    "    SimpleImputer(strategy='median')\n",
    ")\n",
    "\n",
    "X_train_transformed = transformers.fit_transform(X_train)\n",
    "X_val_transformed = transformers.transform(X_val)\n",
    "\n",
    "model = RandomForestClassifier(n_estimators=100, random_state=42, n_jobs=-1)\n",
    "model.fit(X_train_transformed, y_train.values.reshape(-1,))"
   ]
  },
  {
   "cell_type": "code",
   "execution_count": 107,
   "metadata": {},
   "outputs": [
    {
     "data": {
      "text/plain": [
       "PermutationImportance(cv='prefit',\n",
       "                      estimator=RandomForestClassifier(bootstrap=True,\n",
       "                                                       class_weight=None,\n",
       "                                                       criterion='gini',\n",
       "                                                       max_depth=None,\n",
       "                                                       max_features='auto',\n",
       "                                                       max_leaf_nodes=None,\n",
       "                                                       min_impurity_decrease=0.0,\n",
       "                                                       min_impurity_split=None,\n",
       "                                                       min_samples_leaf=1,\n",
       "                                                       min_samples_split=2,\n",
       "                                                       min_weight_fraction_leaf=0.0,\n",
       "                                                       n_estimators=100,\n",
       "                                                       n_jobs=-1,\n",
       "                                                       oob_score=False,\n",
       "                                                       random_state=42,\n",
       "                                                       verbose=0,\n",
       "                                                       warm_start=False),\n",
       "                      n_iter=5, random_state=42, refit=True,\n",
       "                      scoring='accuracy')"
      ]
     },
     "execution_count": 107,
     "metadata": {},
     "output_type": "execute_result"
    }
   ],
   "source": [
    "import eli5\n",
    "from eli5.sklearn import PermutationImportance\n",
    "\n",
    "permuter = PermutationImportance(\n",
    "    model, \n",
    "    scoring='accuracy', \n",
    "    n_iter=5, \n",
    "    random_state=42\n",
    ")\n",
    "\n",
    "permuter.fit(X_val_transformed, y_val)"
   ]
  },
  {
   "cell_type": "code",
   "execution_count": 108,
   "metadata": {},
   "outputs": [
    {
     "data": {
      "text/plain": [
       "Elevation                             0.351119\n",
       "Horizontal_Distance_To_Roadways       0.096730\n",
       "Wilderness_Area                       0.089363\n",
       "Soil_Type                             0.083614\n",
       "Horizontal_Distance_To_Fire_Points    0.072324\n",
       "Horizontal_Distance_To_Hydrology      0.032392\n",
       "Vertical_Distance_To_Hydrology        0.021652\n",
       "Hillshade_Noon                        0.016936\n",
       "Hillshade_9am                         0.014699\n",
       "Aspect                                0.013873\n",
       "Hillshade_3pm                         0.007676\n",
       "Slope                                 0.007022\n",
       "dtype: float64"
      ]
     },
     "execution_count": 108,
     "metadata": {},
     "output_type": "execute_result"
    }
   ],
   "source": [
    "feature_names = X_val.columns.tolist()\n",
    "pd.Series(permuter.feature_importances_, feature_names).sort_values(ascending=False)"
   ]
  },
  {
   "cell_type": "code",
   "execution_count": 109,
   "metadata": {},
   "outputs": [
    {
     "data": {
      "text/html": [
       "\n",
       "    <style>\n",
       "    table.eli5-weights tr:hover {\n",
       "        filter: brightness(85%);\n",
       "    }\n",
       "</style>\n",
       "\n",
       "\n",
       "\n",
       "    \n",
       "\n",
       "    \n",
       "\n",
       "    \n",
       "\n",
       "    \n",
       "\n",
       "    \n",
       "\n",
       "    \n",
       "\n",
       "\n",
       "    \n",
       "\n",
       "    \n",
       "\n",
       "    \n",
       "\n",
       "    \n",
       "\n",
       "    \n",
       "\n",
       "    \n",
       "\n",
       "\n",
       "    \n",
       "\n",
       "    \n",
       "\n",
       "    \n",
       "\n",
       "    \n",
       "\n",
       "    \n",
       "        <table class=\"eli5-weights eli5-feature-importances\" style=\"border-collapse: collapse; border: none; margin-top: 0em; table-layout: auto;\">\n",
       "    <thead>\n",
       "    <tr style=\"border: none;\">\n",
       "        <th style=\"padding: 0 1em 0 0.5em; text-align: right; border: none;\">Weight</th>\n",
       "        <th style=\"padding: 0 0.5em 0 0.5em; text-align: left; border: none;\">Feature</th>\n",
       "    </tr>\n",
       "    </thead>\n",
       "    <tbody>\n",
       "    \n",
       "        <tr style=\"background-color: hsl(120, 100.00%, 80.00%); border: none;\">\n",
       "            <td style=\"padding: 0 1em 0 0.5em; text-align: right; border: none;\">\n",
       "                0.3511\n",
       "                \n",
       "                    &plusmn; 0.0149\n",
       "                \n",
       "            </td>\n",
       "            <td style=\"padding: 0 0.5em 0 0.5em; text-align: left; border: none;\">\n",
       "                Elevation\n",
       "            </td>\n",
       "        </tr>\n",
       "    \n",
       "        <tr style=\"background-color: hsl(120, 100.00%, 91.89%); border: none;\">\n",
       "            <td style=\"padding: 0 1em 0 0.5em; text-align: right; border: none;\">\n",
       "                0.0967\n",
       "                \n",
       "                    &plusmn; 0.0052\n",
       "                \n",
       "            </td>\n",
       "            <td style=\"padding: 0 0.5em 0 0.5em; text-align: left; border: none;\">\n",
       "                Horizontal_Distance_To_Roadways\n",
       "            </td>\n",
       "        </tr>\n",
       "    \n",
       "        <tr style=\"background-color: hsl(120, 100.00%, 92.33%); border: none;\">\n",
       "            <td style=\"padding: 0 1em 0 0.5em; text-align: right; border: none;\">\n",
       "                0.0894\n",
       "                \n",
       "                    &plusmn; 0.0071\n",
       "                \n",
       "            </td>\n",
       "            <td style=\"padding: 0 0.5em 0 0.5em; text-align: left; border: none;\">\n",
       "                Wilderness_Area\n",
       "            </td>\n",
       "        </tr>\n",
       "    \n",
       "        <tr style=\"background-color: hsl(120, 100.00%, 92.67%); border: none;\">\n",
       "            <td style=\"padding: 0 1em 0 0.5em; text-align: right; border: none;\">\n",
       "                0.0836\n",
       "                \n",
       "                    &plusmn; 0.0039\n",
       "                \n",
       "            </td>\n",
       "            <td style=\"padding: 0 0.5em 0 0.5em; text-align: left; border: none;\">\n",
       "                Soil_Type\n",
       "            </td>\n",
       "        </tr>\n",
       "    \n",
       "        <tr style=\"background-color: hsl(120, 100.00%, 93.38%); border: none;\">\n",
       "            <td style=\"padding: 0 1em 0 0.5em; text-align: right; border: none;\">\n",
       "                0.0723\n",
       "                \n",
       "                    &plusmn; 0.0053\n",
       "                \n",
       "            </td>\n",
       "            <td style=\"padding: 0 0.5em 0 0.5em; text-align: left; border: none;\">\n",
       "                Horizontal_Distance_To_Fire_Points\n",
       "            </td>\n",
       "        </tr>\n",
       "    \n",
       "        <tr style=\"background-color: hsl(120, 100.00%, 96.23%); border: none;\">\n",
       "            <td style=\"padding: 0 1em 0 0.5em; text-align: right; border: none;\">\n",
       "                0.0324\n",
       "                \n",
       "                    &plusmn; 0.0044\n",
       "                \n",
       "            </td>\n",
       "            <td style=\"padding: 0 0.5em 0 0.5em; text-align: left; border: none;\">\n",
       "                Horizontal_Distance_To_Hydrology\n",
       "            </td>\n",
       "        </tr>\n",
       "    \n",
       "        <tr style=\"background-color: hsl(120, 100.00%, 97.16%); border: none;\">\n",
       "            <td style=\"padding: 0 1em 0 0.5em; text-align: right; border: none;\">\n",
       "                0.0217\n",
       "                \n",
       "                    &plusmn; 0.0052\n",
       "                \n",
       "            </td>\n",
       "            <td style=\"padding: 0 0.5em 0 0.5em; text-align: left; border: none;\">\n",
       "                Vertical_Distance_To_Hydrology\n",
       "            </td>\n",
       "        </tr>\n",
       "    \n",
       "        <tr style=\"background-color: hsl(120, 100.00%, 97.60%); border: none;\">\n",
       "            <td style=\"padding: 0 1em 0 0.5em; text-align: right; border: none;\">\n",
       "                0.0169\n",
       "                \n",
       "                    &plusmn; 0.0034\n",
       "                \n",
       "            </td>\n",
       "            <td style=\"padding: 0 0.5em 0 0.5em; text-align: left; border: none;\">\n",
       "                Hillshade_Noon\n",
       "            </td>\n",
       "        </tr>\n",
       "    \n",
       "        <tr style=\"background-color: hsl(120, 100.00%, 97.83%); border: none;\">\n",
       "            <td style=\"padding: 0 1em 0 0.5em; text-align: right; border: none;\">\n",
       "                0.0147\n",
       "                \n",
       "                    &plusmn; 0.0027\n",
       "                \n",
       "            </td>\n",
       "            <td style=\"padding: 0 0.5em 0 0.5em; text-align: left; border: none;\">\n",
       "                Hillshade_9am\n",
       "            </td>\n",
       "        </tr>\n",
       "    \n",
       "        <tr style=\"background-color: hsl(120, 100.00%, 97.92%); border: none;\">\n",
       "            <td style=\"padding: 0 1em 0 0.5em; text-align: right; border: none;\">\n",
       "                0.0139\n",
       "                \n",
       "                    &plusmn; 0.0029\n",
       "                \n",
       "            </td>\n",
       "            <td style=\"padding: 0 0.5em 0 0.5em; text-align: left; border: none;\">\n",
       "                Aspect\n",
       "            </td>\n",
       "        </tr>\n",
       "    \n",
       "        <tr style=\"background-color: hsl(120, 100.00%, 98.62%); border: none;\">\n",
       "            <td style=\"padding: 0 1em 0 0.5em; text-align: right; border: none;\">\n",
       "                0.0077\n",
       "                \n",
       "                    &plusmn; 0.0021\n",
       "                \n",
       "            </td>\n",
       "            <td style=\"padding: 0 0.5em 0 0.5em; text-align: left; border: none;\">\n",
       "                Hillshade_3pm\n",
       "            </td>\n",
       "        </tr>\n",
       "    \n",
       "        <tr style=\"background-color: hsl(120, 100.00%, 98.71%); border: none;\">\n",
       "            <td style=\"padding: 0 1em 0 0.5em; text-align: right; border: none;\">\n",
       "                0.0070\n",
       "                \n",
       "                    &plusmn; 0.0007\n",
       "                \n",
       "            </td>\n",
       "            <td style=\"padding: 0 0.5em 0 0.5em; text-align: left; border: none;\">\n",
       "                Slope\n",
       "            </td>\n",
       "        </tr>\n",
       "    \n",
       "    \n",
       "    </tbody>\n",
       "</table>\n",
       "    \n",
       "\n",
       "    \n",
       "\n",
       "\n",
       "    \n",
       "\n",
       "    \n",
       "\n",
       "    \n",
       "\n",
       "    \n",
       "\n",
       "    \n",
       "\n",
       "    \n",
       "\n",
       "\n",
       "\n"
      ],
      "text/plain": [
       "<IPython.core.display.HTML object>"
      ]
     },
     "execution_count": 109,
     "metadata": {},
     "output_type": "execute_result"
    }
   ],
   "source": [
    "eli5.show_weights(\n",
    "    permuter, \n",
    "    top=None, # show permutation importances for all features\n",
    "    feature_names=feature_names\n",
    ")"
   ]
  },
  {
   "cell_type": "code",
   "execution_count": 110,
   "metadata": {},
   "outputs": [
    {
     "name": "stdout",
     "output_type": "stream",
     "text": [
      "Shape before removing features: (23240, 12)\n"
     ]
    }
   ],
   "source": [
    "# We can use importances for feature selection\n",
    "print('Shape before removing features:', X_train.shape)"
   ]
  },
  {
   "cell_type": "code",
   "execution_count": 112,
   "metadata": {},
   "outputs": [
    {
     "name": "stdout",
     "output_type": "stream",
     "text": [
      "Shape after removing features: (23240, 10)\n"
     ]
    }
   ],
   "source": [
    "minimum_importance = 0.008\n",
    "mask = permuter.feature_importances_ > minimum_importance\n",
    "features = X_train.columns[mask]\n",
    "X_train = X_train[features]\n",
    "\n",
    "print('Shape after removing features:', X_train.shape)"
   ]
  },
  {
   "cell_type": "code",
   "execution_count": 113,
   "metadata": {},
   "outputs": [
    {
     "name": "stdout",
     "output_type": "stream",
     "text": [
      "Validation Accuracy 0.8604130808950086\n"
     ]
    }
   ],
   "source": [
    "X_val = X_val[features]\n",
    "\n",
    "pipeline = make_pipeline(\n",
    "    ce.OrdinalEncoder(), \n",
    "    SimpleImputer(strategy='median'), \n",
    "    RandomForestClassifier(n_estimators=100, random_state=42, n_jobs=-1)\n",
    ")\n",
    "\n",
    "# Fit on train, score on val\n",
    "pipeline.fit(X_train, y_train.values.reshape(-1,))\n",
    "print('Validation Accuracy', pipeline.score(X_val, y_val))"
   ]
  },
  {
   "cell_type": "code",
   "execution_count": 114,
   "metadata": {},
   "outputs": [
    {
     "name": "stdout",
     "output_type": "stream",
     "text": [
      "Requirement already satisfied: xgboost in /anaconda3/lib/python3.7/site-packages (0.90)\n",
      "Requirement already satisfied: numpy in /anaconda3/lib/python3.7/site-packages (from xgboost) (1.16.4)\n",
      "Requirement already satisfied: scipy in /anaconda3/lib/python3.7/site-packages (from xgboost) (1.3.0)\n",
      "Note: you may need to restart the kernel to use updated packages.\n"
     ]
    }
   ],
   "source": [
    "pip install xgboost"
   ]
  },
  {
   "cell_type": "code",
   "execution_count": 115,
   "metadata": {},
   "outputs": [
    {
     "data": {
      "text/plain": [
       "Pipeline(memory=None,\n",
       "         steps=[('ordinalencoder',\n",
       "                 OrdinalEncoder(cols=['Wilderness_Area', 'Soil_Type'],\n",
       "                                drop_invariant=False, handle_missing='value',\n",
       "                                handle_unknown='value',\n",
       "                                mapping=[{'col': 'Wilderness_Area',\n",
       "                                          'data_type': dtype('O'),\n",
       "                                          'mapping': Rawah              1\n",
       "Cache la Poudre    2\n",
       "Neota              3\n",
       "Comanche Peak      4\n",
       "NaN               -2\n",
       "dtype: int64},\n",
       "                                         {'col': 'Soil_Type',\n",
       "                                          'data_type': dtype('O'),\n",
       "                                          'mapping': 7745     1\n",
       "7102...\n",
       "                 XGBClassifier(base_score=0.5, booster='gbtree',\n",
       "                               colsample_bylevel=1, colsample_bynode=1,\n",
       "                               colsample_bytree=1, gamma=0, learning_rate=0.1,\n",
       "                               max_delta_step=0, max_depth=3,\n",
       "                               min_child_weight=1, missing=None,\n",
       "                               n_estimators=100, n_jobs=-1, nthread=None,\n",
       "                               objective='multi:softprob', random_state=42,\n",
       "                               reg_alpha=0, reg_lambda=1, scale_pos_weight=1,\n",
       "                               seed=None, silent=None, subsample=1,\n",
       "                               verbosity=1))],\n",
       "         verbose=False)"
      ]
     },
     "execution_count": 115,
     "metadata": {},
     "output_type": "execute_result"
    }
   ],
   "source": [
    "# Use xgboost for gradient boosting\n",
    "from xgboost import XGBClassifier\n",
    "\n",
    "pipeline = make_pipeline(\n",
    "    ce.OrdinalEncoder(), \n",
    "    XGBClassifier(n_estimators=100, random_state=42, n_jobs=-1)\n",
    ")\n",
    "\n",
    "pipeline.fit(X_train, y_train.values.reshape(-1,))"
   ]
  },
  {
   "cell_type": "code",
   "execution_count": 116,
   "metadata": {},
   "outputs": [
    {
     "name": "stdout",
     "output_type": "stream",
     "text": [
      "Validation Accuracy 0.7401032702237521\n"
     ]
    }
   ],
   "source": [
    "from sklearn.metrics import accuracy_score\n",
    "y_pred = pipeline.predict(X_val)\n",
    "print('Validation Accuracy', accuracy_score(y_val, y_pred))"
   ]
  },
  {
   "cell_type": "code",
   "execution_count": 119,
   "metadata": {},
   "outputs": [
    {
     "data": {
      "text/plain": [
       "((23240, 10), (5810, 10), (23240, 10), (5810, 10))"
      ]
     },
     "execution_count": 119,
     "metadata": {},
     "output_type": "execute_result"
    }
   ],
   "source": [
    "#Understand the difference between boosting & bagging\n",
    "encoder = ce.OrdinalEncoder()\n",
    "X_train_encoded = encoder.fit_transform(X_train)\n",
    "X_val_encoded = encoder.transform(X_val)\n",
    "\n",
    "X_train.shape, X_val.shape, X_train_encoded.shape, X_val_encoded.shape"
   ]
  },
  {
   "cell_type": "code",
   "execution_count": 120,
   "metadata": {},
   "outputs": [
    {
     "name": "stderr",
     "output_type": "stream",
     "text": [
      "//anaconda3/lib/python3.7/site-packages/sklearn/preprocessing/label.py:252: DataConversionWarning: A column-vector y was passed when a 1d array was expected. Please change the shape of y to (n_samples, ), for example using ravel().\n",
      "  y = column_or_1d(y, warn=True)\n"
     ]
    },
    {
     "name": "stdout",
     "output_type": "stream",
     "text": [
      "[0]\tvalidation_0-merror:0.231454\tvalidation_1-merror:0.256454\n",
      "Multiple eval metrics have been passed: 'validation_1-merror' will be used for early stopping.\n",
      "\n",
      "Will train until validation_1-merror hasn't improved in 50 rounds.\n",
      "[1]\tvalidation_0-merror:0.223967\tvalidation_1-merror:0.250947\n",
      "[2]\tvalidation_0-merror:0.216351\tvalidation_1-merror:0.24716\n",
      "[3]\tvalidation_0-merror:0.212694\tvalidation_1-merror:0.246644\n",
      "[4]\tvalidation_0-merror:0.210972\tvalidation_1-merror:0.244578\n",
      "[5]\tvalidation_0-merror:0.209423\tvalidation_1-merror:0.242685\n",
      "[6]\tvalidation_0-merror:0.207272\tvalidation_1-merror:0.239931\n",
      "[7]\tvalidation_0-merror:0.204647\tvalidation_1-merror:0.239243\n",
      "[8]\tvalidation_0-merror:0.203873\tvalidation_1-merror:0.239587\n",
      "[9]\tvalidation_0-merror:0.201248\tvalidation_1-merror:0.237349\n",
      "[10]\tvalidation_0-merror:0.199957\tvalidation_1-merror:0.233907\n",
      "[11]\tvalidation_0-merror:0.197762\tvalidation_1-merror:0.231842\n",
      "[12]\tvalidation_0-merror:0.195224\tvalidation_1-merror:0.229604\n",
      "[13]\tvalidation_0-merror:0.193675\tvalidation_1-merror:0.227539\n",
      "[14]\tvalidation_0-merror:0.191093\tvalidation_1-merror:0.227711\n",
      "[15]\tvalidation_0-merror:0.189888\tvalidation_1-merror:0.228571\n",
      "[16]\tvalidation_0-merror:0.187608\tvalidation_1-merror:0.22599\n",
      "[17]\tvalidation_0-merror:0.18494\tvalidation_1-merror:0.226334\n",
      "[18]\tvalidation_0-merror:0.184208\tvalidation_1-merror:0.224613\n",
      "[19]\tvalidation_0-merror:0.182358\tvalidation_1-merror:0.222892\n",
      "[20]\tvalidation_0-merror:0.181067\tvalidation_1-merror:0.221515\n",
      "[21]\tvalidation_0-merror:0.179862\tvalidation_1-merror:0.221859\n",
      "[22]\tvalidation_0-merror:0.179561\tvalidation_1-merror:0.220826\n",
      "[23]\tvalidation_0-merror:0.17827\tvalidation_1-merror:0.219793\n",
      "[24]\tvalidation_0-merror:0.176936\tvalidation_1-merror:0.219793\n",
      "[25]\tvalidation_0-merror:0.174828\tvalidation_1-merror:0.219621\n",
      "[26]\tvalidation_0-merror:0.173064\tvalidation_1-merror:0.217728\n",
      "[27]\tvalidation_0-merror:0.172246\tvalidation_1-merror:0.217212\n",
      "[28]\tvalidation_0-merror:0.170783\tvalidation_1-merror:0.216007\n",
      "[29]\tvalidation_0-merror:0.170224\tvalidation_1-merror:0.216179\n",
      "[30]\tvalidation_0-merror:0.16889\tvalidation_1-merror:0.215491\n",
      "[31]\tvalidation_0-merror:0.167599\tvalidation_1-merror:0.213425\n",
      "[32]\tvalidation_0-merror:0.166954\tvalidation_1-merror:0.213425\n",
      "[33]\tvalidation_0-merror:0.165964\tvalidation_1-merror:0.212392\n",
      "[34]\tvalidation_0-merror:0.16562\tvalidation_1-merror:0.21222\n",
      "[35]\tvalidation_0-merror:0.164329\tvalidation_1-merror:0.211876\n",
      "[36]\tvalidation_0-merror:0.163683\tvalidation_1-merror:0.211532\n",
      "[37]\tvalidation_0-merror:0.163038\tvalidation_1-merror:0.210843\n",
      "[38]\tvalidation_0-merror:0.161962\tvalidation_1-merror:0.210671\n",
      "[39]\tvalidation_0-merror:0.160929\tvalidation_1-merror:0.209811\n",
      "[40]\tvalidation_0-merror:0.160198\tvalidation_1-merror:0.208434\n",
      "[41]\tvalidation_0-merror:0.158821\tvalidation_1-merror:0.20895\n",
      "[42]\tvalidation_0-merror:0.158176\tvalidation_1-merror:0.207917\n",
      "[43]\tvalidation_0-merror:0.157874\tvalidation_1-merror:0.207057\n",
      "[44]\tvalidation_0-merror:0.157229\tvalidation_1-merror:0.206368\n",
      "[45]\tvalidation_0-merror:0.156239\tvalidation_1-merror:0.206196\n",
      "[46]\tvalidation_0-merror:0.155207\tvalidation_1-merror:0.205852\n",
      "[47]\tvalidation_0-merror:0.154518\tvalidation_1-merror:0.205336\n",
      "[48]\tvalidation_0-merror:0.153873\tvalidation_1-merror:0.205336\n",
      "[49]\tvalidation_0-merror:0.152969\tvalidation_1-merror:0.205336\n",
      "[50]\tvalidation_0-merror:0.152668\tvalidation_1-merror:0.205164\n",
      "[51]\tvalidation_0-merror:0.152065\tvalidation_1-merror:0.204991\n",
      "[52]\tvalidation_0-merror:0.15142\tvalidation_1-merror:0.204475\n",
      "[53]\tvalidation_0-merror:0.150559\tvalidation_1-merror:0.204475\n",
      "[54]\tvalidation_0-merror:0.15\tvalidation_1-merror:0.204819\n",
      "[55]\tvalidation_0-merror:0.149053\tvalidation_1-merror:0.204991\n",
      "[56]\tvalidation_0-merror:0.148451\tvalidation_1-merror:0.204819\n",
      "[57]\tvalidation_0-merror:0.147547\tvalidation_1-merror:0.203959\n",
      "[58]\tvalidation_0-merror:0.146343\tvalidation_1-merror:0.204131\n",
      "[59]\tvalidation_0-merror:0.145611\tvalidation_1-merror:0.204303\n",
      "[60]\tvalidation_0-merror:0.14531\tvalidation_1-merror:0.204131\n",
      "[61]\tvalidation_0-merror:0.145181\tvalidation_1-merror:0.203614\n",
      "[62]\tvalidation_0-merror:0.144148\tvalidation_1-merror:0.203787\n",
      "[63]\tvalidation_0-merror:0.143072\tvalidation_1-merror:0.203442\n",
      "[64]\tvalidation_0-merror:0.142685\tvalidation_1-merror:0.202582\n",
      "[65]\tvalidation_0-merror:0.141738\tvalidation_1-merror:0.201377\n",
      "[66]\tvalidation_0-merror:0.141437\tvalidation_1-merror:0.201721\n",
      "[67]\tvalidation_0-merror:0.140835\tvalidation_1-merror:0.201549\n",
      "[68]\tvalidation_0-merror:0.140749\tvalidation_1-merror:0.201549\n",
      "[69]\tvalidation_0-merror:0.140404\tvalidation_1-merror:0.201549\n",
      "[70]\tvalidation_0-merror:0.139673\tvalidation_1-merror:0.201033\n",
      "[71]\tvalidation_0-merror:0.138769\tvalidation_1-merror:0.201205\n",
      "[72]\tvalidation_0-merror:0.137349\tvalidation_1-merror:0.200688\n",
      "[73]\tvalidation_0-merror:0.136317\tvalidation_1-merror:0.200516\n",
      "[74]\tvalidation_0-merror:0.135628\tvalidation_1-merror:0.200516\n",
      "[75]\tvalidation_0-merror:0.134854\tvalidation_1-merror:0.200516\n",
      "[76]\tvalidation_0-merror:0.134294\tvalidation_1-merror:0.200172\n",
      "[77]\tvalidation_0-merror:0.132315\tvalidation_1-merror:0.200516\n",
      "[78]\tvalidation_0-merror:0.131928\tvalidation_1-merror:0.200172\n",
      "[79]\tvalidation_0-merror:0.130938\tvalidation_1-merror:0.200172\n",
      "[80]\tvalidation_0-merror:0.13025\tvalidation_1-merror:0.200344\n",
      "[81]\tvalidation_0-merror:0.129475\tvalidation_1-merror:0.199656\n",
      "[82]\tvalidation_0-merror:0.129088\tvalidation_1-merror:0.200172\n",
      "[83]\tvalidation_0-merror:0.128657\tvalidation_1-merror:0.199656\n",
      "[84]\tvalidation_0-merror:0.128356\tvalidation_1-merror:0.199656\n",
      "[85]\tvalidation_0-merror:0.12784\tvalidation_1-merror:0.199139\n",
      "[86]\tvalidation_0-merror:0.127194\tvalidation_1-merror:0.199484\n",
      "[87]\tvalidation_0-merror:0.126807\tvalidation_1-merror:0.199656\n",
      "[88]\tvalidation_0-merror:0.126506\tvalidation_1-merror:0.199139\n",
      "[89]\tvalidation_0-merror:0.125861\tvalidation_1-merror:0.199312\n",
      "[90]\tvalidation_0-merror:0.124828\tvalidation_1-merror:0.199139\n",
      "[91]\tvalidation_0-merror:0.124441\tvalidation_1-merror:0.198451\n",
      "[92]\tvalidation_0-merror:0.123881\tvalidation_1-merror:0.197935\n",
      "[93]\tvalidation_0-merror:0.12358\tvalidation_1-merror:0.198279\n",
      "[94]\tvalidation_0-merror:0.123107\tvalidation_1-merror:0.197935\n",
      "[95]\tvalidation_0-merror:0.122246\tvalidation_1-merror:0.197246\n",
      "[96]\tvalidation_0-merror:0.12173\tvalidation_1-merror:0.19759\n",
      "[97]\tvalidation_0-merror:0.121041\tvalidation_1-merror:0.197246\n",
      "[98]\tvalidation_0-merror:0.12031\tvalidation_1-merror:0.197418\n",
      "[99]\tvalidation_0-merror:0.119923\tvalidation_1-merror:0.196902\n",
      "[100]\tvalidation_0-merror:0.119019\tvalidation_1-merror:0.196558\n",
      "[101]\tvalidation_0-merror:0.118675\tvalidation_1-merror:0.196558\n",
      "[102]\tvalidation_0-merror:0.11833\tvalidation_1-merror:0.196558\n",
      "[103]\tvalidation_0-merror:0.117513\tvalidation_1-merror:0.195697\n",
      "[104]\tvalidation_0-merror:0.116351\tvalidation_1-merror:0.195697\n",
      "[105]\tvalidation_0-merror:0.115103\tvalidation_1-merror:0.195525\n",
      "[106]\tvalidation_0-merror:0.114845\tvalidation_1-merror:0.195697\n",
      "[107]\tvalidation_0-merror:0.113597\tvalidation_1-merror:0.195181\n",
      "[108]\tvalidation_0-merror:0.113167\tvalidation_1-merror:0.194664\n",
      "[109]\tvalidation_0-merror:0.112952\tvalidation_1-merror:0.193976\n",
      "[110]\tvalidation_0-merror:0.11278\tvalidation_1-merror:0.193804\n",
      "[111]\tvalidation_0-merror:0.112435\tvalidation_1-merror:0.193632\n",
      "[112]\tvalidation_0-merror:0.111532\tvalidation_1-merror:0.193804\n",
      "[113]\tvalidation_0-merror:0.111403\tvalidation_1-merror:0.193632\n",
      "[114]\tvalidation_0-merror:0.110929\tvalidation_1-merror:0.193115\n",
      "[115]\tvalidation_0-merror:0.110671\tvalidation_1-merror:0.193287\n",
      "[116]\tvalidation_0-merror:0.110413\tvalidation_1-merror:0.193115\n",
      "[117]\tvalidation_0-merror:0.110155\tvalidation_1-merror:0.193287\n",
      "[118]\tvalidation_0-merror:0.109079\tvalidation_1-merror:0.19432\n",
      "[119]\tvalidation_0-merror:0.108262\tvalidation_1-merror:0.194148\n",
      "[120]\tvalidation_0-merror:0.107788\tvalidation_1-merror:0.193804\n",
      "[121]\tvalidation_0-merror:0.10753\tvalidation_1-merror:0.193632\n",
      "[122]\tvalidation_0-merror:0.107057\tvalidation_1-merror:0.192427\n",
      "[123]\tvalidation_0-merror:0.106368\tvalidation_1-merror:0.192427\n",
      "[124]\tvalidation_0-merror:0.105981\tvalidation_1-merror:0.192255\n",
      "[125]\tvalidation_0-merror:0.105465\tvalidation_1-merror:0.191222\n",
      "[126]\tvalidation_0-merror:0.104948\tvalidation_1-merror:0.19105\n",
      "[127]\tvalidation_0-merror:0.104217\tvalidation_1-merror:0.190706\n"
     ]
    },
    {
     "name": "stdout",
     "output_type": "stream",
     "text": [
      "[128]\tvalidation_0-merror:0.103701\tvalidation_1-merror:0.190534\n",
      "[129]\tvalidation_0-merror:0.103571\tvalidation_1-merror:0.190878\n",
      "[130]\tvalidation_0-merror:0.102883\tvalidation_1-merror:0.190534\n",
      "[131]\tvalidation_0-merror:0.102367\tvalidation_1-merror:0.190706\n",
      "[132]\tvalidation_0-merror:0.102238\tvalidation_1-merror:0.190878\n",
      "[133]\tvalidation_0-merror:0.100947\tvalidation_1-merror:0.190878\n",
      "[134]\tvalidation_0-merror:0.100172\tvalidation_1-merror:0.190534\n",
      "[135]\tvalidation_0-merror:0.099785\tvalidation_1-merror:0.190361\n",
      "[136]\tvalidation_0-merror:0.099484\tvalidation_1-merror:0.190361\n",
      "[137]\tvalidation_0-merror:0.099441\tvalidation_1-merror:0.189845\n",
      "[138]\tvalidation_0-merror:0.099225\tvalidation_1-merror:0.189845\n",
      "[139]\tvalidation_0-merror:0.098666\tvalidation_1-merror:0.189329\n",
      "[140]\tvalidation_0-merror:0.097935\tvalidation_1-merror:0.188985\n",
      "[141]\tvalidation_0-merror:0.09716\tvalidation_1-merror:0.188124\n",
      "[142]\tvalidation_0-merror:0.096644\tvalidation_1-merror:0.187952\n",
      "[143]\tvalidation_0-merror:0.096213\tvalidation_1-merror:0.187952\n",
      "[144]\tvalidation_0-merror:0.09531\tvalidation_1-merror:0.18778\n",
      "[145]\tvalidation_0-merror:0.094406\tvalidation_1-merror:0.186747\n",
      "[146]\tvalidation_0-merror:0.093718\tvalidation_1-merror:0.186059\n",
      "[147]\tvalidation_0-merror:0.093201\tvalidation_1-merror:0.186403\n",
      "[148]\tvalidation_0-merror:0.092642\tvalidation_1-merror:0.186575\n",
      "[149]\tvalidation_0-merror:0.092169\tvalidation_1-merror:0.186575\n",
      "[150]\tvalidation_0-merror:0.09204\tvalidation_1-merror:0.186747\n",
      "[151]\tvalidation_0-merror:0.090921\tvalidation_1-merror:0.186231\n",
      "[152]\tvalidation_0-merror:0.090318\tvalidation_1-merror:0.186059\n",
      "[153]\tvalidation_0-merror:0.089888\tvalidation_1-merror:0.18537\n",
      "[154]\tvalidation_0-merror:0.089415\tvalidation_1-merror:0.184682\n",
      "[155]\tvalidation_0-merror:0.088941\tvalidation_1-merror:0.185198\n",
      "[156]\tvalidation_0-merror:0.088382\tvalidation_1-merror:0.185198\n",
      "[157]\tvalidation_0-merror:0.088124\tvalidation_1-merror:0.185026\n",
      "[158]\tvalidation_0-merror:0.087651\tvalidation_1-merror:0.184854\n",
      "[159]\tvalidation_0-merror:0.087349\tvalidation_1-merror:0.18537\n",
      "[160]\tvalidation_0-merror:0.08679\tvalidation_1-merror:0.184682\n",
      "[161]\tvalidation_0-merror:0.086575\tvalidation_1-merror:0.185026\n",
      "[162]\tvalidation_0-merror:0.086704\tvalidation_1-merror:0.184682\n",
      "[163]\tvalidation_0-merror:0.086102\tvalidation_1-merror:0.184509\n",
      "[164]\tvalidation_0-merror:0.085757\tvalidation_1-merror:0.183477\n",
      "[165]\tvalidation_0-merror:0.084854\tvalidation_1-merror:0.183477\n",
      "[166]\tvalidation_0-merror:0.083735\tvalidation_1-merror:0.18296\n",
      "[167]\tvalidation_0-merror:0.083348\tvalidation_1-merror:0.18296\n",
      "[168]\tvalidation_0-merror:0.082917\tvalidation_1-merror:0.18296\n",
      "[169]\tvalidation_0-merror:0.081842\tvalidation_1-merror:0.18296\n",
      "[170]\tvalidation_0-merror:0.081713\tvalidation_1-merror:0.18296\n",
      "[171]\tvalidation_0-merror:0.081411\tvalidation_1-merror:0.1821\n",
      "[172]\tvalidation_0-merror:0.08111\tvalidation_1-merror:0.182444\n",
      "[173]\tvalidation_0-merror:0.080336\tvalidation_1-merror:0.182444\n",
      "[174]\tvalidation_0-merror:0.079819\tvalidation_1-merror:0.181756\n",
      "[175]\tvalidation_0-merror:0.079432\tvalidation_1-merror:0.1821\n",
      "[176]\tvalidation_0-merror:0.078873\tvalidation_1-merror:0.181583\n",
      "[177]\tvalidation_0-merror:0.078528\tvalidation_1-merror:0.181756\n",
      "[178]\tvalidation_0-merror:0.077625\tvalidation_1-merror:0.181067\n",
      "[179]\tvalidation_0-merror:0.076893\tvalidation_1-merror:0.179862\n",
      "[180]\tvalidation_0-merror:0.076377\tvalidation_1-merror:0.179346\n",
      "[181]\tvalidation_0-merror:0.075516\tvalidation_1-merror:0.179518\n",
      "[182]\tvalidation_0-merror:0.074613\tvalidation_1-merror:0.179862\n",
      "[183]\tvalidation_0-merror:0.074139\tvalidation_1-merror:0.179346\n",
      "[184]\tvalidation_0-merror:0.07401\tvalidation_1-merror:0.179174\n",
      "[185]\tvalidation_0-merror:0.073709\tvalidation_1-merror:0.178657\n",
      "[186]\tvalidation_0-merror:0.073537\tvalidation_1-merror:0.17883\n",
      "[187]\tvalidation_0-merror:0.073279\tvalidation_1-merror:0.178657\n",
      "[188]\tvalidation_0-merror:0.073236\tvalidation_1-merror:0.178485\n",
      "[189]\tvalidation_0-merror:0.072978\tvalidation_1-merror:0.178485\n",
      "[190]\tvalidation_0-merror:0.072849\tvalidation_1-merror:0.17883\n",
      "[191]\tvalidation_0-merror:0.072633\tvalidation_1-merror:0.178657\n",
      "[192]\tvalidation_0-merror:0.072246\tvalidation_1-merror:0.178485\n",
      "[193]\tvalidation_0-merror:0.072031\tvalidation_1-merror:0.179002\n",
      "[194]\tvalidation_0-merror:0.07173\tvalidation_1-merror:0.17883\n",
      "[195]\tvalidation_0-merror:0.071515\tvalidation_1-merror:0.178313\n",
      "[196]\tvalidation_0-merror:0.070826\tvalidation_1-merror:0.177797\n",
      "[197]\tvalidation_0-merror:0.070611\tvalidation_1-merror:0.177969\n",
      "[198]\tvalidation_0-merror:0.070482\tvalidation_1-merror:0.178141\n",
      "[199]\tvalidation_0-merror:0.069793\tvalidation_1-merror:0.177625\n",
      "[200]\tvalidation_0-merror:0.069793\tvalidation_1-merror:0.177797\n",
      "[201]\tvalidation_0-merror:0.069406\tvalidation_1-merror:0.178141\n",
      "[202]\tvalidation_0-merror:0.068546\tvalidation_1-merror:0.177625\n",
      "[203]\tvalidation_0-merror:0.068201\tvalidation_1-merror:0.177625\n",
      "[204]\tvalidation_0-merror:0.067943\tvalidation_1-merror:0.177108\n",
      "[205]\tvalidation_0-merror:0.067943\tvalidation_1-merror:0.176592\n",
      "[206]\tvalidation_0-merror:0.067083\tvalidation_1-merror:0.176248\n",
      "[207]\tvalidation_0-merror:0.066695\tvalidation_1-merror:0.176248\n",
      "[208]\tvalidation_0-merror:0.066652\tvalidation_1-merror:0.175904\n",
      "[209]\tvalidation_0-merror:0.06562\tvalidation_1-merror:0.175559\n",
      "[210]\tvalidation_0-merror:0.065189\tvalidation_1-merror:0.175387\n",
      "[211]\tvalidation_0-merror:0.064845\tvalidation_1-merror:0.175215\n",
      "[212]\tvalidation_0-merror:0.064716\tvalidation_1-merror:0.175731\n",
      "[213]\tvalidation_0-merror:0.064114\tvalidation_1-merror:0.175387\n",
      "[214]\tvalidation_0-merror:0.063511\tvalidation_1-merror:0.174527\n",
      "[215]\tvalidation_0-merror:0.063382\tvalidation_1-merror:0.174527\n",
      "[216]\tvalidation_0-merror:0.063296\tvalidation_1-merror:0.175043\n",
      "[217]\tvalidation_0-merror:0.062995\tvalidation_1-merror:0.174871\n",
      "[218]\tvalidation_0-merror:0.062823\tvalidation_1-merror:0.175215\n",
      "[219]\tvalidation_0-merror:0.062478\tvalidation_1-merror:0.174871\n",
      "[220]\tvalidation_0-merror:0.062349\tvalidation_1-merror:0.174871\n",
      "[221]\tvalidation_0-merror:0.061919\tvalidation_1-merror:0.174182\n",
      "[222]\tvalidation_0-merror:0.061833\tvalidation_1-merror:0.17401\n",
      "[223]\tvalidation_0-merror:0.061532\tvalidation_1-merror:0.174182\n",
      "[224]\tvalidation_0-merror:0.061317\tvalidation_1-merror:0.174182\n",
      "[225]\tvalidation_0-merror:0.061145\tvalidation_1-merror:0.173494\n",
      "[226]\tvalidation_0-merror:0.059811\tvalidation_1-merror:0.171945\n",
      "[227]\tvalidation_0-merror:0.059509\tvalidation_1-merror:0.171773\n",
      "[228]\tvalidation_0-merror:0.059079\tvalidation_1-merror:0.171256\n",
      "[229]\tvalidation_0-merror:0.058778\tvalidation_1-merror:0.171429\n",
      "[230]\tvalidation_0-merror:0.058219\tvalidation_1-merror:0.171601\n",
      "[231]\tvalidation_0-merror:0.057917\tvalidation_1-merror:0.171256\n",
      "[232]\tvalidation_0-merror:0.057874\tvalidation_1-merror:0.171429\n",
      "[233]\tvalidation_0-merror:0.05753\tvalidation_1-merror:0.170568\n",
      "[234]\tvalidation_0-merror:0.0571\tvalidation_1-merror:0.169707\n",
      "[235]\tvalidation_0-merror:0.056971\tvalidation_1-merror:0.16988\n",
      "[236]\tvalidation_0-merror:0.056756\tvalidation_1-merror:0.170568\n",
      "[237]\tvalidation_0-merror:0.056756\tvalidation_1-merror:0.170224\n",
      "[238]\tvalidation_0-merror:0.056325\tvalidation_1-merror:0.170052\n",
      "[239]\tvalidation_0-merror:0.056196\tvalidation_1-merror:0.170052\n",
      "[240]\tvalidation_0-merror:0.055895\tvalidation_1-merror:0.170912\n",
      "[241]\tvalidation_0-merror:0.055551\tvalidation_1-merror:0.170568\n",
      "[242]\tvalidation_0-merror:0.055379\tvalidation_1-merror:0.16988\n",
      "[243]\tvalidation_0-merror:0.054862\tvalidation_1-merror:0.169363\n",
      "[244]\tvalidation_0-merror:0.054776\tvalidation_1-merror:0.169019\n",
      "[245]\tvalidation_0-merror:0.054389\tvalidation_1-merror:0.168847\n",
      "[246]\tvalidation_0-merror:0.053614\tvalidation_1-merror:0.169019\n",
      "[247]\tvalidation_0-merror:0.053055\tvalidation_1-merror:0.168503\n",
      "[248]\tvalidation_0-merror:0.053098\tvalidation_1-merror:0.16833\n",
      "[249]\tvalidation_0-merror:0.052926\tvalidation_1-merror:0.167814\n",
      "[250]\tvalidation_0-merror:0.05284\tvalidation_1-merror:0.167986\n",
      "[251]\tvalidation_0-merror:0.052668\tvalidation_1-merror:0.168158\n",
      "[252]\tvalidation_0-merror:0.052539\tvalidation_1-merror:0.167642\n",
      "[253]\tvalidation_0-merror:0.052496\tvalidation_1-merror:0.16747\n",
      "[254]\tvalidation_0-merror:0.05241\tvalidation_1-merror:0.167642\n",
      "[255]\tvalidation_0-merror:0.052367\tvalidation_1-merror:0.167642\n",
      "[256]\tvalidation_0-merror:0.052281\tvalidation_1-merror:0.167642\n"
     ]
    },
    {
     "name": "stdout",
     "output_type": "stream",
     "text": [
      "[257]\tvalidation_0-merror:0.051979\tvalidation_1-merror:0.167298\n",
      "[258]\tvalidation_0-merror:0.051678\tvalidation_1-merror:0.16747\n",
      "[259]\tvalidation_0-merror:0.05099\tvalidation_1-merror:0.167126\n",
      "[260]\tvalidation_0-merror:0.050387\tvalidation_1-merror:0.167642\n",
      "[261]\tvalidation_0-merror:0.050086\tvalidation_1-merror:0.167298\n",
      "[262]\tvalidation_0-merror:0.049742\tvalidation_1-merror:0.166609\n",
      "[263]\tvalidation_0-merror:0.049742\tvalidation_1-merror:0.166093\n",
      "[264]\tvalidation_0-merror:0.049656\tvalidation_1-merror:0.166609\n",
      "[265]\tvalidation_0-merror:0.049742\tvalidation_1-merror:0.166781\n",
      "[266]\tvalidation_0-merror:0.049053\tvalidation_1-merror:0.166954\n",
      "[267]\tvalidation_0-merror:0.04901\tvalidation_1-merror:0.166954\n",
      "[268]\tvalidation_0-merror:0.048924\tvalidation_1-merror:0.166265\n",
      "[269]\tvalidation_0-merror:0.048709\tvalidation_1-merror:0.166954\n",
      "[270]\tvalidation_0-merror:0.048451\tvalidation_1-merror:0.166954\n",
      "[271]\tvalidation_0-merror:0.048279\tvalidation_1-merror:0.166093\n",
      "[272]\tvalidation_0-merror:0.048064\tvalidation_1-merror:0.165921\n",
      "[273]\tvalidation_0-merror:0.047762\tvalidation_1-merror:0.165921\n",
      "[274]\tvalidation_0-merror:0.047633\tvalidation_1-merror:0.165577\n",
      "[275]\tvalidation_0-merror:0.047504\tvalidation_1-merror:0.166093\n",
      "[276]\tvalidation_0-merror:0.047418\tvalidation_1-merror:0.165577\n",
      "[277]\tvalidation_0-merror:0.046945\tvalidation_1-merror:0.165921\n",
      "[278]\tvalidation_0-merror:0.046429\tvalidation_1-merror:0.164888\n",
      "[279]\tvalidation_0-merror:0.045783\tvalidation_1-merror:0.16506\n",
      "[280]\tvalidation_0-merror:0.045654\tvalidation_1-merror:0.165232\n",
      "[281]\tvalidation_0-merror:0.045396\tvalidation_1-merror:0.1642\n",
      "[282]\tvalidation_0-merror:0.045052\tvalidation_1-merror:0.163683\n",
      "[283]\tvalidation_0-merror:0.045052\tvalidation_1-merror:0.164028\n",
      "[284]\tvalidation_0-merror:0.044836\tvalidation_1-merror:0.163855\n",
      "[285]\tvalidation_0-merror:0.044836\tvalidation_1-merror:0.164028\n",
      "[286]\tvalidation_0-merror:0.044449\tvalidation_1-merror:0.164372\n",
      "[287]\tvalidation_0-merror:0.044363\tvalidation_1-merror:0.164888\n",
      "[288]\tvalidation_0-merror:0.044234\tvalidation_1-merror:0.164888\n",
      "[289]\tvalidation_0-merror:0.044105\tvalidation_1-merror:0.164544\n",
      "[290]\tvalidation_0-merror:0.044062\tvalidation_1-merror:0.164716\n",
      "[291]\tvalidation_0-merror:0.043589\tvalidation_1-merror:0.164544\n",
      "[292]\tvalidation_0-merror:0.043503\tvalidation_1-merror:0.164372\n",
      "[293]\tvalidation_0-merror:0.043503\tvalidation_1-merror:0.164372\n",
      "[294]\tvalidation_0-merror:0.043287\tvalidation_1-merror:0.164372\n",
      "[295]\tvalidation_0-merror:0.04333\tvalidation_1-merror:0.164372\n",
      "[296]\tvalidation_0-merror:0.043115\tvalidation_1-merror:0.164028\n",
      "[297]\tvalidation_0-merror:0.043115\tvalidation_1-merror:0.163683\n",
      "[298]\tvalidation_0-merror:0.042986\tvalidation_1-merror:0.163511\n",
      "[299]\tvalidation_0-merror:0.042556\tvalidation_1-merror:0.163511\n",
      "[300]\tvalidation_0-merror:0.041824\tvalidation_1-merror:0.163167\n",
      "[301]\tvalidation_0-merror:0.041824\tvalidation_1-merror:0.162995\n",
      "[302]\tvalidation_0-merror:0.041652\tvalidation_1-merror:0.162478\n",
      "[303]\tvalidation_0-merror:0.041437\tvalidation_1-merror:0.162823\n",
      "[304]\tvalidation_0-merror:0.040921\tvalidation_1-merror:0.162995\n",
      "[305]\tvalidation_0-merror:0.040878\tvalidation_1-merror:0.162995\n",
      "[306]\tvalidation_0-merror:0.04105\tvalidation_1-merror:0.163167\n",
      "[307]\tvalidation_0-merror:0.040448\tvalidation_1-merror:0.163511\n",
      "[308]\tvalidation_0-merror:0.040275\tvalidation_1-merror:0.163167\n",
      "[309]\tvalidation_0-merror:0.039888\tvalidation_1-merror:0.163339\n",
      "[310]\tvalidation_0-merror:0.039845\tvalidation_1-merror:0.163683\n",
      "[311]\tvalidation_0-merror:0.039759\tvalidation_1-merror:0.163511\n",
      "[312]\tvalidation_0-merror:0.039544\tvalidation_1-merror:0.163855\n",
      "[313]\tvalidation_0-merror:0.039458\tvalidation_1-merror:0.163511\n",
      "[314]\tvalidation_0-merror:0.039372\tvalidation_1-merror:0.163167\n",
      "[315]\tvalidation_0-merror:0.039071\tvalidation_1-merror:0.163511\n",
      "[316]\tvalidation_0-merror:0.038468\tvalidation_1-merror:0.162995\n",
      "[317]\tvalidation_0-merror:0.038296\tvalidation_1-merror:0.163167\n",
      "[318]\tvalidation_0-merror:0.037995\tvalidation_1-merror:0.162995\n",
      "[319]\tvalidation_0-merror:0.037478\tvalidation_1-merror:0.162823\n",
      "[320]\tvalidation_0-merror:0.037134\tvalidation_1-merror:0.162478\n",
      "[321]\tvalidation_0-merror:0.037134\tvalidation_1-merror:0.162651\n",
      "[322]\tvalidation_0-merror:0.037091\tvalidation_1-merror:0.162823\n",
      "[323]\tvalidation_0-merror:0.037091\tvalidation_1-merror:0.162823\n",
      "[324]\tvalidation_0-merror:0.036833\tvalidation_1-merror:0.162651\n",
      "[325]\tvalidation_0-merror:0.036575\tvalidation_1-merror:0.161962\n",
      "[326]\tvalidation_0-merror:0.036145\tvalidation_1-merror:0.161962\n",
      "[327]\tvalidation_0-merror:0.0358\tvalidation_1-merror:0.161446\n",
      "[328]\tvalidation_0-merror:0.035542\tvalidation_1-merror:0.16179\n",
      "[329]\tvalidation_0-merror:0.034983\tvalidation_1-merror:0.161618\n",
      "[330]\tvalidation_0-merror:0.034811\tvalidation_1-merror:0.161618\n",
      "[331]\tvalidation_0-merror:0.034811\tvalidation_1-merror:0.161618\n",
      "[332]\tvalidation_0-merror:0.034811\tvalidation_1-merror:0.162306\n",
      "[333]\tvalidation_0-merror:0.034811\tvalidation_1-merror:0.162134\n",
      "[334]\tvalidation_0-merror:0.034768\tvalidation_1-merror:0.162134\n",
      "[335]\tvalidation_0-merror:0.034509\tvalidation_1-merror:0.162134\n",
      "[336]\tvalidation_0-merror:0.034466\tvalidation_1-merror:0.162134\n",
      "[337]\tvalidation_0-merror:0.034466\tvalidation_1-merror:0.162478\n",
      "[338]\tvalidation_0-merror:0.034294\tvalidation_1-merror:0.162995\n",
      "[339]\tvalidation_0-merror:0.034208\tvalidation_1-merror:0.162651\n",
      "[340]\tvalidation_0-merror:0.033907\tvalidation_1-merror:0.160929\n",
      "[341]\tvalidation_0-merror:0.033864\tvalidation_1-merror:0.160929\n",
      "[342]\tvalidation_0-merror:0.033778\tvalidation_1-merror:0.160757\n",
      "[343]\tvalidation_0-merror:0.033477\tvalidation_1-merror:0.160585\n",
      "[344]\tvalidation_0-merror:0.033563\tvalidation_1-merror:0.160585\n",
      "[345]\tvalidation_0-merror:0.033477\tvalidation_1-merror:0.160929\n",
      "[346]\tvalidation_0-merror:0.032573\tvalidation_1-merror:0.16179\n",
      "[347]\tvalidation_0-merror:0.032143\tvalidation_1-merror:0.161102\n",
      "[348]\tvalidation_0-merror:0.032057\tvalidation_1-merror:0.161446\n",
      "[349]\tvalidation_0-merror:0.031885\tvalidation_1-merror:0.161274\n",
      "[350]\tvalidation_0-merror:0.031583\tvalidation_1-merror:0.161102\n",
      "[351]\tvalidation_0-merror:0.031627\tvalidation_1-merror:0.160757\n",
      "[352]\tvalidation_0-merror:0.031282\tvalidation_1-merror:0.161102\n",
      "[353]\tvalidation_0-merror:0.031196\tvalidation_1-merror:0.160757\n",
      "[354]\tvalidation_0-merror:0.030809\tvalidation_1-merror:0.161102\n",
      "[355]\tvalidation_0-merror:0.030723\tvalidation_1-merror:0.161274\n",
      "[356]\tvalidation_0-merror:0.030508\tvalidation_1-merror:0.160929\n",
      "[357]\tvalidation_0-merror:0.030551\tvalidation_1-merror:0.160757\n",
      "[358]\tvalidation_0-merror:0.030207\tvalidation_1-merror:0.160757\n",
      "[359]\tvalidation_0-merror:0.029776\tvalidation_1-merror:0.160929\n",
      "[360]\tvalidation_0-merror:0.029561\tvalidation_1-merror:0.160929\n",
      "[361]\tvalidation_0-merror:0.029389\tvalidation_1-merror:0.161102\n",
      "[362]\tvalidation_0-merror:0.028959\tvalidation_1-merror:0.161274\n",
      "[363]\tvalidation_0-merror:0.028787\tvalidation_1-merror:0.160585\n",
      "[364]\tvalidation_0-merror:0.028528\tvalidation_1-merror:0.160757\n",
      "[365]\tvalidation_0-merror:0.028399\tvalidation_1-merror:0.160241\n",
      "[366]\tvalidation_0-merror:0.028356\tvalidation_1-merror:0.160241\n",
      "[367]\tvalidation_0-merror:0.028356\tvalidation_1-merror:0.159725\n",
      "[368]\tvalidation_0-merror:0.027754\tvalidation_1-merror:0.159552\n",
      "[369]\tvalidation_0-merror:0.027754\tvalidation_1-merror:0.159897\n",
      "[370]\tvalidation_0-merror:0.027754\tvalidation_1-merror:0.159897\n",
      "[371]\tvalidation_0-merror:0.027668\tvalidation_1-merror:0.160069\n",
      "[372]\tvalidation_0-merror:0.027711\tvalidation_1-merror:0.160069\n",
      "[373]\tvalidation_0-merror:0.027582\tvalidation_1-merror:0.159897\n",
      "[374]\tvalidation_0-merror:0.027625\tvalidation_1-merror:0.159552\n",
      "[375]\tvalidation_0-merror:0.027582\tvalidation_1-merror:0.160069\n",
      "[376]\tvalidation_0-merror:0.02741\tvalidation_1-merror:0.160585\n",
      "[377]\tvalidation_0-merror:0.027151\tvalidation_1-merror:0.160413\n",
      "[378]\tvalidation_0-merror:0.026721\tvalidation_1-merror:0.160585\n",
      "[379]\tvalidation_0-merror:0.026635\tvalidation_1-merror:0.160413\n",
      "[380]\tvalidation_0-merror:0.026248\tvalidation_1-merror:0.160413\n",
      "[381]\tvalidation_0-merror:0.026205\tvalidation_1-merror:0.160413\n",
      "[382]\tvalidation_0-merror:0.026119\tvalidation_1-merror:0.160069\n",
      "[383]\tvalidation_0-merror:0.026076\tvalidation_1-merror:0.160069\n",
      "[384]\tvalidation_0-merror:0.026033\tvalidation_1-merror:0.160069\n",
      "[385]\tvalidation_0-merror:0.026033\tvalidation_1-merror:0.159897\n"
     ]
    },
    {
     "name": "stdout",
     "output_type": "stream",
     "text": [
      "[386]\tvalidation_0-merror:0.025602\tvalidation_1-merror:0.159725\n",
      "[387]\tvalidation_0-merror:0.025645\tvalidation_1-merror:0.160069\n",
      "[388]\tvalidation_0-merror:0.025645\tvalidation_1-merror:0.15938\n",
      "[389]\tvalidation_0-merror:0.02543\tvalidation_1-merror:0.159036\n",
      "[390]\tvalidation_0-merror:0.02543\tvalidation_1-merror:0.158864\n",
      "[391]\tvalidation_0-merror:0.025344\tvalidation_1-merror:0.159208\n",
      "[392]\tvalidation_0-merror:0.025301\tvalidation_1-merror:0.159036\n",
      "[393]\tvalidation_0-merror:0.025344\tvalidation_1-merror:0.159208\n",
      "[394]\tvalidation_0-merror:0.025344\tvalidation_1-merror:0.158692\n",
      "[395]\tvalidation_0-merror:0.025\tvalidation_1-merror:0.15852\n",
      "[396]\tvalidation_0-merror:0.024656\tvalidation_1-merror:0.15852\n",
      "[397]\tvalidation_0-merror:0.024656\tvalidation_1-merror:0.158692\n",
      "[398]\tvalidation_0-merror:0.024484\tvalidation_1-merror:0.158692\n",
      "[399]\tvalidation_0-merror:0.024441\tvalidation_1-merror:0.158864\n",
      "[400]\tvalidation_0-merror:0.024441\tvalidation_1-merror:0.15938\n",
      "[401]\tvalidation_0-merror:0.024441\tvalidation_1-merror:0.159036\n",
      "[402]\tvalidation_0-merror:0.024484\tvalidation_1-merror:0.159036\n",
      "[403]\tvalidation_0-merror:0.024484\tvalidation_1-merror:0.159208\n",
      "[404]\tvalidation_0-merror:0.024269\tvalidation_1-merror:0.159036\n",
      "[405]\tvalidation_0-merror:0.024182\tvalidation_1-merror:0.158864\n",
      "[406]\tvalidation_0-merror:0.02401\tvalidation_1-merror:0.159208\n",
      "[407]\tvalidation_0-merror:0.023795\tvalidation_1-merror:0.159552\n",
      "[408]\tvalidation_0-merror:0.023322\tvalidation_1-merror:0.159725\n",
      "[409]\tvalidation_0-merror:0.023107\tvalidation_1-merror:0.159897\n",
      "[410]\tvalidation_0-merror:0.022849\tvalidation_1-merror:0.159725\n",
      "[411]\tvalidation_0-merror:0.022418\tvalidation_1-merror:0.159552\n",
      "[412]\tvalidation_0-merror:0.02216\tvalidation_1-merror:0.159552\n",
      "[413]\tvalidation_0-merror:0.022203\tvalidation_1-merror:0.159552\n",
      "[414]\tvalidation_0-merror:0.022117\tvalidation_1-merror:0.159208\n",
      "[415]\tvalidation_0-merror:0.021988\tvalidation_1-merror:0.159208\n",
      "[416]\tvalidation_0-merror:0.02173\tvalidation_1-merror:0.15938\n",
      "[417]\tvalidation_0-merror:0.021515\tvalidation_1-merror:0.159036\n",
      "[418]\tvalidation_0-merror:0.021515\tvalidation_1-merror:0.159208\n",
      "[419]\tvalidation_0-merror:0.021429\tvalidation_1-merror:0.15938\n",
      "[420]\tvalidation_0-merror:0.021256\tvalidation_1-merror:0.159036\n",
      "[421]\tvalidation_0-merror:0.020912\tvalidation_1-merror:0.158864\n",
      "[422]\tvalidation_0-merror:0.020396\tvalidation_1-merror:0.158003\n",
      "[423]\tvalidation_0-merror:0.020439\tvalidation_1-merror:0.158003\n",
      "[424]\tvalidation_0-merror:0.020439\tvalidation_1-merror:0.158003\n",
      "[425]\tvalidation_0-merror:0.020181\tvalidation_1-merror:0.158176\n",
      "[426]\tvalidation_0-merror:0.020052\tvalidation_1-merror:0.157831\n",
      "[427]\tvalidation_0-merror:0.020095\tvalidation_1-merror:0.158692\n",
      "[428]\tvalidation_0-merror:0.020009\tvalidation_1-merror:0.158348\n",
      "[429]\tvalidation_0-merror:0.019836\tvalidation_1-merror:0.157315\n",
      "[430]\tvalidation_0-merror:0.01988\tvalidation_1-merror:0.157659\n",
      "[431]\tvalidation_0-merror:0.019707\tvalidation_1-merror:0.157659\n",
      "[432]\tvalidation_0-merror:0.019664\tvalidation_1-merror:0.157659\n",
      "[433]\tvalidation_0-merror:0.019664\tvalidation_1-merror:0.157487\n",
      "[434]\tvalidation_0-merror:0.019363\tvalidation_1-merror:0.156971\n",
      "[435]\tvalidation_0-merror:0.019234\tvalidation_1-merror:0.157143\n",
      "[436]\tvalidation_0-merror:0.019148\tvalidation_1-merror:0.156799\n",
      "[437]\tvalidation_0-merror:0.019105\tvalidation_1-merror:0.156454\n",
      "[438]\tvalidation_0-merror:0.018847\tvalidation_1-merror:0.156799\n",
      "[439]\tvalidation_0-merror:0.018546\tvalidation_1-merror:0.156627\n",
      "[440]\tvalidation_0-merror:0.018546\tvalidation_1-merror:0.155938\n",
      "[441]\tvalidation_0-merror:0.018158\tvalidation_1-merror:0.15611\n",
      "[442]\tvalidation_0-merror:0.018115\tvalidation_1-merror:0.156282\n",
      "[443]\tvalidation_0-merror:0.018158\tvalidation_1-merror:0.155938\n",
      "[444]\tvalidation_0-merror:0.0179\tvalidation_1-merror:0.15611\n",
      "[445]\tvalidation_0-merror:0.017771\tvalidation_1-merror:0.155422\n",
      "[446]\tvalidation_0-merror:0.017599\tvalidation_1-merror:0.155422\n",
      "[447]\tvalidation_0-merror:0.017556\tvalidation_1-merror:0.155594\n",
      "[448]\tvalidation_0-merror:0.017599\tvalidation_1-merror:0.155594\n",
      "[449]\tvalidation_0-merror:0.017341\tvalidation_1-merror:0.155422\n",
      "[450]\tvalidation_0-merror:0.017341\tvalidation_1-merror:0.15525\n",
      "[451]\tvalidation_0-merror:0.017255\tvalidation_1-merror:0.155594\n",
      "[452]\tvalidation_0-merror:0.017212\tvalidation_1-merror:0.155594\n",
      "[453]\tvalidation_0-merror:0.017212\tvalidation_1-merror:0.155422\n",
      "[454]\tvalidation_0-merror:0.016997\tvalidation_1-merror:0.155077\n",
      "[455]\tvalidation_0-merror:0.016997\tvalidation_1-merror:0.155766\n",
      "[456]\tvalidation_0-merror:0.016997\tvalidation_1-merror:0.155594\n",
      "[457]\tvalidation_0-merror:0.016997\tvalidation_1-merror:0.155594\n",
      "[458]\tvalidation_0-merror:0.016954\tvalidation_1-merror:0.15525\n",
      "[459]\tvalidation_0-merror:0.016954\tvalidation_1-merror:0.15525\n",
      "[460]\tvalidation_0-merror:0.016954\tvalidation_1-merror:0.155422\n",
      "[461]\tvalidation_0-merror:0.016738\tvalidation_1-merror:0.155422\n",
      "[462]\tvalidation_0-merror:0.016695\tvalidation_1-merror:0.15525\n",
      "[463]\tvalidation_0-merror:0.016609\tvalidation_1-merror:0.155766\n",
      "[464]\tvalidation_0-merror:0.016609\tvalidation_1-merror:0.155766\n",
      "[465]\tvalidation_0-merror:0.016437\tvalidation_1-merror:0.15611\n",
      "[466]\tvalidation_0-merror:0.016308\tvalidation_1-merror:0.155766\n",
      "[467]\tvalidation_0-merror:0.016093\tvalidation_1-merror:0.155938\n",
      "[468]\tvalidation_0-merror:0.015835\tvalidation_1-merror:0.155766\n",
      "[469]\tvalidation_0-merror:0.015921\tvalidation_1-merror:0.156282\n",
      "[470]\tvalidation_0-merror:0.015921\tvalidation_1-merror:0.156282\n",
      "[471]\tvalidation_0-merror:0.015878\tvalidation_1-merror:0.15611\n",
      "[472]\tvalidation_0-merror:0.015749\tvalidation_1-merror:0.155766\n",
      "[473]\tvalidation_0-merror:0.015361\tvalidation_1-merror:0.155938\n",
      "[474]\tvalidation_0-merror:0.015189\tvalidation_1-merror:0.155938\n",
      "[475]\tvalidation_0-merror:0.015017\tvalidation_1-merror:0.155766\n",
      "[476]\tvalidation_0-merror:0.014888\tvalidation_1-merror:0.154733\n",
      "[477]\tvalidation_0-merror:0.014673\tvalidation_1-merror:0.154733\n",
      "[478]\tvalidation_0-merror:0.014587\tvalidation_1-merror:0.154217\n",
      "[479]\tvalidation_0-merror:0.014587\tvalidation_1-merror:0.154561\n",
      "[480]\tvalidation_0-merror:0.014501\tvalidation_1-merror:0.155077\n",
      "[481]\tvalidation_0-merror:0.014286\tvalidation_1-merror:0.154733\n",
      "[482]\tvalidation_0-merror:0.014157\tvalidation_1-merror:0.153873\n",
      "[483]\tvalidation_0-merror:0.014071\tvalidation_1-merror:0.154045\n",
      "[484]\tvalidation_0-merror:0.013985\tvalidation_1-merror:0.153873\n",
      "[485]\tvalidation_0-merror:0.013554\tvalidation_1-merror:0.153873\n",
      "[486]\tvalidation_0-merror:0.013511\tvalidation_1-merror:0.153873\n",
      "[487]\tvalidation_0-merror:0.013339\tvalidation_1-merror:0.153528\n",
      "[488]\tvalidation_0-merror:0.013167\tvalidation_1-merror:0.153873\n",
      "[489]\tvalidation_0-merror:0.013167\tvalidation_1-merror:0.154045\n",
      "[490]\tvalidation_0-merror:0.013124\tvalidation_1-merror:0.154389\n",
      "[491]\tvalidation_0-merror:0.013038\tvalidation_1-merror:0.154561\n",
      "[492]\tvalidation_0-merror:0.01278\tvalidation_1-merror:0.154389\n",
      "[493]\tvalidation_0-merror:0.012823\tvalidation_1-merror:0.154389\n",
      "[494]\tvalidation_0-merror:0.012694\tvalidation_1-merror:0.154905\n",
      "[495]\tvalidation_0-merror:0.012435\tvalidation_1-merror:0.155077\n",
      "[496]\tvalidation_0-merror:0.012392\tvalidation_1-merror:0.154905\n",
      "[497]\tvalidation_0-merror:0.012306\tvalidation_1-merror:0.154905\n",
      "[498]\tvalidation_0-merror:0.012306\tvalidation_1-merror:0.154561\n",
      "[499]\tvalidation_0-merror:0.012306\tvalidation_1-merror:0.154905\n",
      "[500]\tvalidation_0-merror:0.012263\tvalidation_1-merror:0.154905\n",
      "[501]\tvalidation_0-merror:0.01222\tvalidation_1-merror:0.154733\n",
      "[502]\tvalidation_0-merror:0.012263\tvalidation_1-merror:0.154733\n",
      "[503]\tvalidation_0-merror:0.012177\tvalidation_1-merror:0.154045\n",
      "[504]\tvalidation_0-merror:0.012091\tvalidation_1-merror:0.154217\n",
      "[505]\tvalidation_0-merror:0.011962\tvalidation_1-merror:0.154733\n",
      "[506]\tvalidation_0-merror:0.011919\tvalidation_1-merror:0.154389\n",
      "[507]\tvalidation_0-merror:0.011833\tvalidation_1-merror:0.154217\n",
      "[508]\tvalidation_0-merror:0.01179\tvalidation_1-merror:0.154045\n",
      "[509]\tvalidation_0-merror:0.011747\tvalidation_1-merror:0.154217\n",
      "[510]\tvalidation_0-merror:0.011532\tvalidation_1-merror:0.154217\n",
      "[511]\tvalidation_0-merror:0.011446\tvalidation_1-merror:0.154045\n",
      "[512]\tvalidation_0-merror:0.011532\tvalidation_1-merror:0.154217\n",
      "[513]\tvalidation_0-merror:0.01136\tvalidation_1-merror:0.154217\n",
      "[514]\tvalidation_0-merror:0.011403\tvalidation_1-merror:0.153873\n"
     ]
    },
    {
     "name": "stdout",
     "output_type": "stream",
     "text": [
      "[515]\tvalidation_0-merror:0.01136\tvalidation_1-merror:0.153701\n",
      "[516]\tvalidation_0-merror:0.011274\tvalidation_1-merror:0.153184\n",
      "[517]\tvalidation_0-merror:0.011188\tvalidation_1-merror:0.153356\n",
      "[518]\tvalidation_0-merror:0.011145\tvalidation_1-merror:0.153184\n",
      "[519]\tvalidation_0-merror:0.011145\tvalidation_1-merror:0.153356\n",
      "[520]\tvalidation_0-merror:0.0108\tvalidation_1-merror:0.153701\n",
      "[521]\tvalidation_0-merror:0.010671\tvalidation_1-merror:0.153528\n",
      "[522]\tvalidation_0-merror:0.010542\tvalidation_1-merror:0.153012\n",
      "[523]\tvalidation_0-merror:0.010542\tvalidation_1-merror:0.152668\n",
      "[524]\tvalidation_0-merror:0.010456\tvalidation_1-merror:0.153356\n",
      "[525]\tvalidation_0-merror:0.010327\tvalidation_1-merror:0.153356\n",
      "[526]\tvalidation_0-merror:0.010327\tvalidation_1-merror:0.153184\n",
      "[527]\tvalidation_0-merror:0.010284\tvalidation_1-merror:0.152496\n",
      "[528]\tvalidation_0-merror:0.010198\tvalidation_1-merror:0.152668\n",
      "[529]\tvalidation_0-merror:0.010241\tvalidation_1-merror:0.15284\n",
      "[530]\tvalidation_0-merror:0.010284\tvalidation_1-merror:0.153184\n",
      "[531]\tvalidation_0-merror:0.01037\tvalidation_1-merror:0.153356\n",
      "[532]\tvalidation_0-merror:0.010327\tvalidation_1-merror:0.153184\n",
      "[533]\tvalidation_0-merror:0.010198\tvalidation_1-merror:0.153184\n",
      "[534]\tvalidation_0-merror:0.010198\tvalidation_1-merror:0.153012\n",
      "[535]\tvalidation_0-merror:0.010069\tvalidation_1-merror:0.152151\n",
      "[536]\tvalidation_0-merror:0.010026\tvalidation_1-merror:0.152496\n",
      "[537]\tvalidation_0-merror:0.009725\tvalidation_1-merror:0.151979\n",
      "[538]\tvalidation_0-merror:0.009725\tvalidation_1-merror:0.151635\n",
      "[539]\tvalidation_0-merror:0.009682\tvalidation_1-merror:0.151291\n",
      "[540]\tvalidation_0-merror:0.009509\tvalidation_1-merror:0.151291\n",
      "[541]\tvalidation_0-merror:0.009552\tvalidation_1-merror:0.151119\n",
      "[542]\tvalidation_0-merror:0.00938\tvalidation_1-merror:0.151463\n",
      "[543]\tvalidation_0-merror:0.009208\tvalidation_1-merror:0.151807\n",
      "[544]\tvalidation_0-merror:0.009079\tvalidation_1-merror:0.151635\n",
      "[545]\tvalidation_0-merror:0.009122\tvalidation_1-merror:0.151463\n",
      "[546]\tvalidation_0-merror:0.009122\tvalidation_1-merror:0.151463\n",
      "[547]\tvalidation_0-merror:0.009208\tvalidation_1-merror:0.151635\n",
      "[548]\tvalidation_0-merror:0.009208\tvalidation_1-merror:0.151635\n",
      "[549]\tvalidation_0-merror:0.009208\tvalidation_1-merror:0.151979\n",
      "[550]\tvalidation_0-merror:0.009036\tvalidation_1-merror:0.151119\n",
      "[551]\tvalidation_0-merror:0.008907\tvalidation_1-merror:0.151463\n",
      "[552]\tvalidation_0-merror:0.008821\tvalidation_1-merror:0.150775\n",
      "[553]\tvalidation_0-merror:0.008778\tvalidation_1-merror:0.150775\n",
      "[554]\tvalidation_0-merror:0.008692\tvalidation_1-merror:0.150258\n",
      "[555]\tvalidation_0-merror:0.008692\tvalidation_1-merror:0.149914\n",
      "[556]\tvalidation_0-merror:0.008563\tvalidation_1-merror:0.15043\n",
      "[557]\tvalidation_0-merror:0.008563\tvalidation_1-merror:0.150258\n",
      "[558]\tvalidation_0-merror:0.00852\tvalidation_1-merror:0.150086\n",
      "[559]\tvalidation_0-merror:0.008434\tvalidation_1-merror:0.149914\n",
      "[560]\tvalidation_0-merror:0.008434\tvalidation_1-merror:0.149914\n",
      "[561]\tvalidation_0-merror:0.008305\tvalidation_1-merror:0.150086\n",
      "[562]\tvalidation_0-merror:0.008219\tvalidation_1-merror:0.150258\n",
      "[563]\tvalidation_0-merror:0.008133\tvalidation_1-merror:0.15043\n",
      "[564]\tvalidation_0-merror:0.008133\tvalidation_1-merror:0.15043\n",
      "[565]\tvalidation_0-merror:0.008176\tvalidation_1-merror:0.150258\n",
      "[566]\tvalidation_0-merror:0.00809\tvalidation_1-merror:0.150258\n",
      "[567]\tvalidation_0-merror:0.00809\tvalidation_1-merror:0.149914\n",
      "[568]\tvalidation_0-merror:0.00809\tvalidation_1-merror:0.149742\n",
      "[569]\tvalidation_0-merror:0.008003\tvalidation_1-merror:0.150258\n",
      "[570]\tvalidation_0-merror:0.00796\tvalidation_1-merror:0.150602\n",
      "[571]\tvalidation_0-merror:0.00796\tvalidation_1-merror:0.150602\n",
      "[572]\tvalidation_0-merror:0.007874\tvalidation_1-merror:0.15043\n",
      "[573]\tvalidation_0-merror:0.007917\tvalidation_1-merror:0.149742\n",
      "[574]\tvalidation_0-merror:0.007831\tvalidation_1-merror:0.150258\n",
      "[575]\tvalidation_0-merror:0.007745\tvalidation_1-merror:0.150086\n",
      "[576]\tvalidation_0-merror:0.007788\tvalidation_1-merror:0.150258\n",
      "[577]\tvalidation_0-merror:0.007745\tvalidation_1-merror:0.15043\n",
      "[578]\tvalidation_0-merror:0.007702\tvalidation_1-merror:0.150947\n",
      "[579]\tvalidation_0-merror:0.007616\tvalidation_1-merror:0.150258\n",
      "[580]\tvalidation_0-merror:0.00753\tvalidation_1-merror:0.150775\n",
      "[581]\tvalidation_0-merror:0.007444\tvalidation_1-merror:0.150775\n",
      "[582]\tvalidation_0-merror:0.007401\tvalidation_1-merror:0.151119\n",
      "[583]\tvalidation_0-merror:0.007444\tvalidation_1-merror:0.151291\n",
      "[584]\tvalidation_0-merror:0.007186\tvalidation_1-merror:0.150947\n",
      "[585]\tvalidation_0-merror:0.007186\tvalidation_1-merror:0.150947\n",
      "[586]\tvalidation_0-merror:0.007143\tvalidation_1-merror:0.15043\n",
      "[587]\tvalidation_0-merror:0.0071\tvalidation_1-merror:0.150602\n",
      "[588]\tvalidation_0-merror:0.007143\tvalidation_1-merror:0.150258\n",
      "[589]\tvalidation_0-merror:0.0071\tvalidation_1-merror:0.150086\n",
      "[590]\tvalidation_0-merror:0.0071\tvalidation_1-merror:0.150258\n",
      "[591]\tvalidation_0-merror:0.007057\tvalidation_1-merror:0.149914\n",
      "[592]\tvalidation_0-merror:0.006971\tvalidation_1-merror:0.149225\n",
      "[593]\tvalidation_0-merror:0.006842\tvalidation_1-merror:0.149914\n",
      "[594]\tvalidation_0-merror:0.006842\tvalidation_1-merror:0.149053\n",
      "[595]\tvalidation_0-merror:0.006842\tvalidation_1-merror:0.149225\n",
      "[596]\tvalidation_0-merror:0.006842\tvalidation_1-merror:0.149225\n",
      "[597]\tvalidation_0-merror:0.006799\tvalidation_1-merror:0.149398\n",
      "[598]\tvalidation_0-merror:0.006799\tvalidation_1-merror:0.149225\n",
      "[599]\tvalidation_0-merror:0.006842\tvalidation_1-merror:0.149053\n",
      "[600]\tvalidation_0-merror:0.006842\tvalidation_1-merror:0.148881\n",
      "[601]\tvalidation_0-merror:0.006756\tvalidation_1-merror:0.149053\n",
      "[602]\tvalidation_0-merror:0.006713\tvalidation_1-merror:0.149225\n",
      "[603]\tvalidation_0-merror:0.006713\tvalidation_1-merror:0.149225\n",
      "[604]\tvalidation_0-merror:0.006756\tvalidation_1-merror:0.148881\n",
      "[605]\tvalidation_0-merror:0.006713\tvalidation_1-merror:0.149398\n",
      "[606]\tvalidation_0-merror:0.006756\tvalidation_1-merror:0.148709\n",
      "[607]\tvalidation_0-merror:0.006583\tvalidation_1-merror:0.148709\n",
      "[608]\tvalidation_0-merror:0.006583\tvalidation_1-merror:0.148365\n",
      "[609]\tvalidation_0-merror:0.006239\tvalidation_1-merror:0.148709\n",
      "[610]\tvalidation_0-merror:0.006196\tvalidation_1-merror:0.149053\n",
      "[611]\tvalidation_0-merror:0.006067\tvalidation_1-merror:0.148537\n",
      "[612]\tvalidation_0-merror:0.005981\tvalidation_1-merror:0.148537\n",
      "[613]\tvalidation_0-merror:0.006024\tvalidation_1-merror:0.148193\n",
      "[614]\tvalidation_0-merror:0.005809\tvalidation_1-merror:0.147849\n",
      "[615]\tvalidation_0-merror:0.00568\tvalidation_1-merror:0.148193\n",
      "[616]\tvalidation_0-merror:0.005637\tvalidation_1-merror:0.148021\n",
      "[617]\tvalidation_0-merror:0.005594\tvalidation_1-merror:0.147849\n",
      "[618]\tvalidation_0-merror:0.005508\tvalidation_1-merror:0.147676\n",
      "[619]\tvalidation_0-merror:0.005465\tvalidation_1-merror:0.147504\n",
      "[620]\tvalidation_0-merror:0.005422\tvalidation_1-merror:0.147504\n",
      "[621]\tvalidation_0-merror:0.005422\tvalidation_1-merror:0.147849\n",
      "[622]\tvalidation_0-merror:0.005422\tvalidation_1-merror:0.148021\n",
      "[623]\tvalidation_0-merror:0.005465\tvalidation_1-merror:0.147849\n",
      "[624]\tvalidation_0-merror:0.005465\tvalidation_1-merror:0.147849\n",
      "[625]\tvalidation_0-merror:0.005293\tvalidation_1-merror:0.147849\n",
      "[626]\tvalidation_0-merror:0.005293\tvalidation_1-merror:0.147849\n",
      "[627]\tvalidation_0-merror:0.005207\tvalidation_1-merror:0.147676\n",
      "[628]\tvalidation_0-merror:0.005164\tvalidation_1-merror:0.147676\n",
      "[629]\tvalidation_0-merror:0.005207\tvalidation_1-merror:0.147849\n",
      "[630]\tvalidation_0-merror:0.00512\tvalidation_1-merror:0.148021\n",
      "[631]\tvalidation_0-merror:0.00512\tvalidation_1-merror:0.148193\n",
      "[632]\tvalidation_0-merror:0.005034\tvalidation_1-merror:0.147849\n",
      "[633]\tvalidation_0-merror:0.004991\tvalidation_1-merror:0.147849\n",
      "[634]\tvalidation_0-merror:0.004991\tvalidation_1-merror:0.148021\n",
      "[635]\tvalidation_0-merror:0.004991\tvalidation_1-merror:0.148021\n",
      "[636]\tvalidation_0-merror:0.004991\tvalidation_1-merror:0.148021\n",
      "[637]\tvalidation_0-merror:0.004991\tvalidation_1-merror:0.148021\n",
      "[638]\tvalidation_0-merror:0.004991\tvalidation_1-merror:0.148365\n",
      "[639]\tvalidation_0-merror:0.004991\tvalidation_1-merror:0.148365\n",
      "[640]\tvalidation_0-merror:0.004991\tvalidation_1-merror:0.148365\n",
      "[641]\tvalidation_0-merror:0.004948\tvalidation_1-merror:0.148537\n",
      "[642]\tvalidation_0-merror:0.004948\tvalidation_1-merror:0.148365\n",
      "[643]\tvalidation_0-merror:0.004948\tvalidation_1-merror:0.148193\n"
     ]
    },
    {
     "name": "stdout",
     "output_type": "stream",
     "text": [
      "[644]\tvalidation_0-merror:0.004905\tvalidation_1-merror:0.148193\n",
      "[645]\tvalidation_0-merror:0.004862\tvalidation_1-merror:0.148365\n",
      "[646]\tvalidation_0-merror:0.004776\tvalidation_1-merror:0.148365\n",
      "[647]\tvalidation_0-merror:0.004776\tvalidation_1-merror:0.148365\n",
      "[648]\tvalidation_0-merror:0.004733\tvalidation_1-merror:0.148365\n",
      "[649]\tvalidation_0-merror:0.00469\tvalidation_1-merror:0.148365\n",
      "[650]\tvalidation_0-merror:0.004604\tvalidation_1-merror:0.148365\n",
      "[651]\tvalidation_0-merror:0.004561\tvalidation_1-merror:0.148365\n",
      "[652]\tvalidation_0-merror:0.004475\tvalidation_1-merror:0.148365\n",
      "[653]\tvalidation_0-merror:0.004303\tvalidation_1-merror:0.147676\n",
      "[654]\tvalidation_0-merror:0.004217\tvalidation_1-merror:0.147849\n",
      "[655]\tvalidation_0-merror:0.004174\tvalidation_1-merror:0.147676\n",
      "[656]\tvalidation_0-merror:0.004131\tvalidation_1-merror:0.147676\n",
      "[657]\tvalidation_0-merror:0.004131\tvalidation_1-merror:0.147332\n",
      "[658]\tvalidation_0-merror:0.004131\tvalidation_1-merror:0.147849\n",
      "[659]\tvalidation_0-merror:0.004131\tvalidation_1-merror:0.148021\n",
      "[660]\tvalidation_0-merror:0.004131\tvalidation_1-merror:0.147676\n",
      "[661]\tvalidation_0-merror:0.004131\tvalidation_1-merror:0.147676\n",
      "[662]\tvalidation_0-merror:0.004131\tvalidation_1-merror:0.147504\n",
      "[663]\tvalidation_0-merror:0.004088\tvalidation_1-merror:0.147676\n",
      "[664]\tvalidation_0-merror:0.004088\tvalidation_1-merror:0.147676\n",
      "[665]\tvalidation_0-merror:0.004088\tvalidation_1-merror:0.147504\n",
      "[666]\tvalidation_0-merror:0.004131\tvalidation_1-merror:0.146988\n",
      "[667]\tvalidation_0-merror:0.004088\tvalidation_1-merror:0.14716\n",
      "[668]\tvalidation_0-merror:0.004045\tvalidation_1-merror:0.14716\n",
      "[669]\tvalidation_0-merror:0.003873\tvalidation_1-merror:0.147332\n",
      "[670]\tvalidation_0-merror:0.003873\tvalidation_1-merror:0.147504\n",
      "[671]\tvalidation_0-merror:0.003873\tvalidation_1-merror:0.147676\n",
      "[672]\tvalidation_0-merror:0.003873\tvalidation_1-merror:0.147504\n",
      "[673]\tvalidation_0-merror:0.00383\tvalidation_1-merror:0.147504\n",
      "[674]\tvalidation_0-merror:0.003787\tvalidation_1-merror:0.147504\n",
      "[675]\tvalidation_0-merror:0.003744\tvalidation_1-merror:0.147504\n",
      "[676]\tvalidation_0-merror:0.003744\tvalidation_1-merror:0.147332\n",
      "[677]\tvalidation_0-merror:0.003744\tvalidation_1-merror:0.14716\n",
      "[678]\tvalidation_0-merror:0.003744\tvalidation_1-merror:0.147332\n",
      "[679]\tvalidation_0-merror:0.003614\tvalidation_1-merror:0.147332\n",
      "[680]\tvalidation_0-merror:0.003614\tvalidation_1-merror:0.147676\n",
      "[681]\tvalidation_0-merror:0.003614\tvalidation_1-merror:0.147849\n",
      "[682]\tvalidation_0-merror:0.003614\tvalidation_1-merror:0.147849\n",
      "[683]\tvalidation_0-merror:0.003571\tvalidation_1-merror:0.148365\n",
      "[684]\tvalidation_0-merror:0.003571\tvalidation_1-merror:0.148021\n",
      "[685]\tvalidation_0-merror:0.003614\tvalidation_1-merror:0.147849\n",
      "[686]\tvalidation_0-merror:0.003571\tvalidation_1-merror:0.148021\n",
      "[687]\tvalidation_0-merror:0.003528\tvalidation_1-merror:0.147849\n",
      "[688]\tvalidation_0-merror:0.003528\tvalidation_1-merror:0.147676\n",
      "[689]\tvalidation_0-merror:0.003485\tvalidation_1-merror:0.148021\n",
      "[690]\tvalidation_0-merror:0.003442\tvalidation_1-merror:0.147849\n",
      "[691]\tvalidation_0-merror:0.003442\tvalidation_1-merror:0.147849\n",
      "[692]\tvalidation_0-merror:0.003442\tvalidation_1-merror:0.147676\n",
      "[693]\tvalidation_0-merror:0.003485\tvalidation_1-merror:0.147676\n",
      "[694]\tvalidation_0-merror:0.003528\tvalidation_1-merror:0.147332\n",
      "[695]\tvalidation_0-merror:0.003485\tvalidation_1-merror:0.14716\n",
      "[696]\tvalidation_0-merror:0.003485\tvalidation_1-merror:0.14716\n",
      "[697]\tvalidation_0-merror:0.003356\tvalidation_1-merror:0.146988\n",
      "[698]\tvalidation_0-merror:0.003313\tvalidation_1-merror:0.146988\n",
      "[699]\tvalidation_0-merror:0.003356\tvalidation_1-merror:0.146988\n",
      "[700]\tvalidation_0-merror:0.003356\tvalidation_1-merror:0.146988\n",
      "[701]\tvalidation_0-merror:0.003356\tvalidation_1-merror:0.146988\n",
      "[702]\tvalidation_0-merror:0.003356\tvalidation_1-merror:0.146644\n",
      "[703]\tvalidation_0-merror:0.00327\tvalidation_1-merror:0.146988\n",
      "[704]\tvalidation_0-merror:0.003184\tvalidation_1-merror:0.146988\n",
      "[705]\tvalidation_0-merror:0.003227\tvalidation_1-merror:0.146988\n",
      "[706]\tvalidation_0-merror:0.003227\tvalidation_1-merror:0.146644\n",
      "[707]\tvalidation_0-merror:0.003141\tvalidation_1-merror:0.146988\n",
      "[708]\tvalidation_0-merror:0.003098\tvalidation_1-merror:0.146988\n",
      "[709]\tvalidation_0-merror:0.003055\tvalidation_1-merror:0.146644\n",
      "[710]\tvalidation_0-merror:0.003055\tvalidation_1-merror:0.146644\n",
      "[711]\tvalidation_0-merror:0.003012\tvalidation_1-merror:0.146299\n",
      "[712]\tvalidation_0-merror:0.003012\tvalidation_1-merror:0.145955\n",
      "[713]\tvalidation_0-merror:0.002969\tvalidation_1-merror:0.146299\n",
      "[714]\tvalidation_0-merror:0.002969\tvalidation_1-merror:0.146299\n",
      "[715]\tvalidation_0-merror:0.002969\tvalidation_1-merror:0.146127\n",
      "[716]\tvalidation_0-merror:0.002883\tvalidation_1-merror:0.146127\n",
      "[717]\tvalidation_0-merror:0.00284\tvalidation_1-merror:0.145955\n",
      "[718]\tvalidation_0-merror:0.002754\tvalidation_1-merror:0.146299\n",
      "[719]\tvalidation_0-merror:0.002754\tvalidation_1-merror:0.145955\n",
      "[720]\tvalidation_0-merror:0.002754\tvalidation_1-merror:0.146299\n",
      "[721]\tvalidation_0-merror:0.002754\tvalidation_1-merror:0.146299\n",
      "[722]\tvalidation_0-merror:0.002797\tvalidation_1-merror:0.146299\n",
      "[723]\tvalidation_0-merror:0.002797\tvalidation_1-merror:0.146299\n",
      "[724]\tvalidation_0-merror:0.002797\tvalidation_1-merror:0.145955\n",
      "[725]\tvalidation_0-merror:0.002797\tvalidation_1-merror:0.146127\n",
      "[726]\tvalidation_0-merror:0.002711\tvalidation_1-merror:0.146127\n",
      "[727]\tvalidation_0-merror:0.002754\tvalidation_1-merror:0.146127\n",
      "[728]\tvalidation_0-merror:0.002754\tvalidation_1-merror:0.145955\n",
      "[729]\tvalidation_0-merror:0.002754\tvalidation_1-merror:0.146127\n",
      "[730]\tvalidation_0-merror:0.002754\tvalidation_1-merror:0.146299\n",
      "[731]\tvalidation_0-merror:0.002797\tvalidation_1-merror:0.146299\n",
      "[732]\tvalidation_0-merror:0.002668\tvalidation_1-merror:0.146127\n",
      "[733]\tvalidation_0-merror:0.002668\tvalidation_1-merror:0.146644\n",
      "[734]\tvalidation_0-merror:0.002668\tvalidation_1-merror:0.146988\n",
      "[735]\tvalidation_0-merror:0.002668\tvalidation_1-merror:0.14716\n",
      "[736]\tvalidation_0-merror:0.002668\tvalidation_1-merror:0.147332\n",
      "[737]\tvalidation_0-merror:0.002668\tvalidation_1-merror:0.147504\n",
      "[738]\tvalidation_0-merror:0.002711\tvalidation_1-merror:0.147504\n",
      "[739]\tvalidation_0-merror:0.002668\tvalidation_1-merror:0.147332\n",
      "[740]\tvalidation_0-merror:0.002625\tvalidation_1-merror:0.147332\n",
      "[741]\tvalidation_0-merror:0.002625\tvalidation_1-merror:0.147504\n",
      "[742]\tvalidation_0-merror:0.002582\tvalidation_1-merror:0.147332\n",
      "[743]\tvalidation_0-merror:0.002539\tvalidation_1-merror:0.14716\n",
      "[744]\tvalidation_0-merror:0.002539\tvalidation_1-merror:0.146988\n",
      "[745]\tvalidation_0-merror:0.002496\tvalidation_1-merror:0.146988\n",
      "[746]\tvalidation_0-merror:0.002496\tvalidation_1-merror:0.14716\n",
      "[747]\tvalidation_0-merror:0.002496\tvalidation_1-merror:0.147332\n",
      "[748]\tvalidation_0-merror:0.002496\tvalidation_1-merror:0.147332\n",
      "[749]\tvalidation_0-merror:0.002496\tvalidation_1-merror:0.147676\n",
      "[750]\tvalidation_0-merror:0.002496\tvalidation_1-merror:0.147504\n",
      "[751]\tvalidation_0-merror:0.002453\tvalidation_1-merror:0.147332\n",
      "[752]\tvalidation_0-merror:0.002453\tvalidation_1-merror:0.14716\n",
      "[753]\tvalidation_0-merror:0.002453\tvalidation_1-merror:0.146988\n",
      "[754]\tvalidation_0-merror:0.00241\tvalidation_1-merror:0.146472\n",
      "[755]\tvalidation_0-merror:0.00241\tvalidation_1-merror:0.146816\n",
      "[756]\tvalidation_0-merror:0.00241\tvalidation_1-merror:0.14716\n",
      "[757]\tvalidation_0-merror:0.002324\tvalidation_1-merror:0.146816\n",
      "[758]\tvalidation_0-merror:0.002324\tvalidation_1-merror:0.14716\n",
      "[759]\tvalidation_0-merror:0.002367\tvalidation_1-merror:0.146988\n",
      "[760]\tvalidation_0-merror:0.002367\tvalidation_1-merror:0.146988\n",
      "[761]\tvalidation_0-merror:0.002324\tvalidation_1-merror:0.146299\n",
      "[762]\tvalidation_0-merror:0.002324\tvalidation_1-merror:0.146127\n",
      "Stopping. Best iteration:\n",
      "[712]\tvalidation_0-merror:0.003012\tvalidation_1-merror:0.145955\n",
      "\n"
     ]
    },
    {
     "data": {
      "text/plain": [
       "XGBClassifier(base_score=0.5, booster='gbtree', colsample_bylevel=1,\n",
       "              colsample_bynode=1, colsample_bytree=1, gamma=0,\n",
       "              learning_rate=0.1, max_delta_step=0, max_depth=7,\n",
       "              min_child_weight=1, missing=None, n_estimators=1000, n_jobs=-1,\n",
       "              nthread=None, objective='multi:softprob', random_state=0,\n",
       "              reg_alpha=0, reg_lambda=1, scale_pos_weight=1, seed=None,\n",
       "              silent=None, subsample=1, verbosity=1)"
      ]
     },
     "execution_count": 120,
     "metadata": {},
     "output_type": "execute_result"
    }
   ],
   "source": [
    "eval_set = [(X_train_encoded, y_train), \n",
    "            (X_val_encoded, y_val)]\n",
    "\n",
    "model = XGBClassifier(\n",
    "    n_estimators=1000, # <= 1000 trees, depends on early stopping\n",
    "    max_depth=7,       # try deeper trees because of high cardinality categoricals\n",
    "    learning_rate=0.1, # try higher learning rate\n",
    "    n_jobs=-1\n",
    ")\n",
    "\n",
    "model.fit(X_train_encoded, y_train.values.reshape(-1,), eval_set=eval_set, \n",
    "          eval_metric='merror', early_stopping_rounds=50)"
   ]
  },
  {
   "cell_type": "code",
   "execution_count": 121,
   "metadata": {},
   "outputs": [
    {
     "data": {
      "image/png": "[encoded data removed]",
      "text/plain": [
       "<Figure size 432x288 with 1 Axes>"
      ]
     },
     "metadata": {
      "needs_background": "light"
     },
     "output_type": "display_data"
    }
   ],
   "source": [
    "results = model.evals_result()\n",
    "train_error = results['validation_0']['merror']\n",
    "val_error = results['validation_1']['merror']\n",
    "epoch = range(1, len(train_error)+1)\n",
    "plt.plot(epoch, train_error, label='Train')\n",
    "plt.plot(epoch, val_error, label='Validation')\n",
    "plt.ylabel('Classification Error')\n",
    "plt.xlabel('Model Complexity (n_estimators)')\n",
    "#plt.ylim((0.18, 0.22)) # Zoom in\n",
    "plt.ylim((0.0, .27))\n",
    "plt.legend();"
   ]
  },
  {
   "cell_type": "code",
   "execution_count": 122,
   "metadata": {},
   "outputs": [
    {
     "data": {
      "image/png": "[encoded data removed]",
      "text/plain": [
       "<Figure size 432x288 with 1 Axes>"
      ]
     },
     "metadata": {
      "needs_background": "light"
     },
     "output_type": "display_data"
    }
   ],
   "source": [
    "results = model.evals_result()\n",
    "train_error = results['validation_0']['merror']\n",
    "val_error = results['validation_1']['merror']\n",
    "epoch = range(1, len(train_error)+1)\n",
    "plt.plot(epoch, train_error, label='Train')\n",
    "plt.plot(epoch, val_error, label='Validation')\n",
    "plt.ylabel('Classification Error')\n",
    "plt.xlabel('Model Complexity (n_estimators)')\n",
    "plt.ylim((0.12, 0.18)) # Zoom in\n",
    "\n",
    "plt.legend();"
   ]
  },
  {
   "cell_type": "code",
   "execution_count": null,
   "metadata": {},
   "outputs": [],
   "source": []
  }
 ],
 "metadata": {
  "colab": {
   "collapsed_sections": [],
   "name": "assignment_applied_modeling_2.ipynb",
   "provenance": []
  },
  "kernelspec": {
   "display_name": "Python 3",
   "language": "python",
   "name": "python3"
  },
  "language_info": {
   "codemirror_mode": {
    "name": "ipython",
    "version": 3
   },
   "file_extension": ".py",
   "mimetype": "text/x-python",
   "name": "python",
   "nbconvert_exporter": "python",
   "pygments_lexer": "ipython3",
   "version": "3.7.3"
  }
 },
 "nbformat": 4,
 "nbformat_minor": 1
}
